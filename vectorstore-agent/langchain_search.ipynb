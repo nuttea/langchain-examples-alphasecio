{
  "cells": [
    {
      "attachments": {},
      "cell_type": "markdown",
      "metadata": {
        "id": "ExQu-G_--Pd9"
      },
      "source": [
        "# **LangChain Search**"
      ]
    },
    {
      "attachments": {},
      "cell_type": "markdown",
      "metadata": {
        "id": "iJiK00mp-aT_"
      },
      "source": [
        "Install the necessary packages"
      ]
    },
    {
      "cell_type": "code",
      "execution_count": 2,
      "metadata": {},
      "outputs": [
        {
          "name": "stdout",
          "output_type": "stream",
          "text": [
            "Python 3.10.12\n"
          ]
        }
      ],
      "source": [
        "!python --version"
      ]
    },
    {
      "cell_type": "code",
      "execution_count": 3,
      "metadata": {
        "id": "OuxPlA9r-Mmf"
      },
      "outputs": [
        {
          "name": "stdout",
          "output_type": "stream",
          "text": [
            "Requirement already satisfied: streamlit in /Users/nuttee/Projects/nuttee-cloudrun-bigquery-with-langchain/venv/lib/python3.10/site-packages (1.24.1)\n",
            "Requirement already satisfied: gitpython!=3.1.19,<4,>=3 in /Users/nuttee/Projects/nuttee-cloudrun-bigquery-with-langchain/venv/lib/python3.10/site-packages (from streamlit) (3.1.32)\n",
            "Requirement already satisfied: pydeck<1,>=0.1.dev5 in /Users/nuttee/Projects/nuttee-cloudrun-bigquery-with-langchain/venv/lib/python3.10/site-packages (from streamlit) (0.8.1b0)\n",
            "Requirement already satisfied: python-dateutil<3,>=2 in /Users/nuttee/Projects/nuttee-cloudrun-bigquery-with-langchain/venv/lib/python3.10/site-packages (from streamlit) (2.8.2)\n",
            "Requirement already satisfied: requests<3,>=2.4 in /Users/nuttee/Projects/nuttee-cloudrun-bigquery-with-langchain/venv/lib/python3.10/site-packages (from streamlit) (2.31.0)\n",
            "Requirement already satisfied: tenacity<9,>=8.0.0 in /Users/nuttee/Projects/nuttee-cloudrun-bigquery-with-langchain/venv/lib/python3.10/site-packages (from streamlit) (8.2.2)\n",
            "Requirement already satisfied: cachetools<6,>=4.0 in /Users/nuttee/Projects/nuttee-cloudrun-bigquery-with-langchain/venv/lib/python3.10/site-packages (from streamlit) (5.3.1)\n",
            "Requirement already satisfied: toml<2 in /Users/nuttee/Projects/nuttee-cloudrun-bigquery-with-langchain/venv/lib/python3.10/site-packages (from streamlit) (0.10.2)\n",
            "Requirement already satisfied: click<9,>=7.0 in /Users/nuttee/Projects/nuttee-cloudrun-bigquery-with-langchain/venv/lib/python3.10/site-packages (from streamlit) (8.1.3)\n",
            "Requirement already satisfied: pillow<10,>=6.2.0 in /Users/nuttee/Projects/nuttee-cloudrun-bigquery-with-langchain/venv/lib/python3.10/site-packages (from streamlit) (9.5.0)\n",
            "Requirement already satisfied: blinker<2,>=1.0.0 in /Users/nuttee/Projects/nuttee-cloudrun-bigquery-with-langchain/venv/lib/python3.10/site-packages (from streamlit) (1.6.2)\n",
            "Requirement already satisfied: altair<6,>=4.0 in /Users/nuttee/Projects/nuttee-cloudrun-bigquery-with-langchain/venv/lib/python3.10/site-packages (from streamlit) (5.0.1)\n",
            "Requirement already satisfied: rich<14,>=10.11.0 in /Users/nuttee/Projects/nuttee-cloudrun-bigquery-with-langchain/venv/lib/python3.10/site-packages (from streamlit) (13.4.2)\n",
            "Requirement already satisfied: pyarrow>=4.0 in /Users/nuttee/Projects/nuttee-cloudrun-bigquery-with-langchain/venv/lib/python3.10/site-packages (from streamlit) (12.0.1)\n",
            "Requirement already satisfied: importlib-metadata<7,>=1.4 in /Users/nuttee/Projects/nuttee-cloudrun-bigquery-with-langchain/venv/lib/python3.10/site-packages (from streamlit) (6.8.0)\n",
            "Requirement already satisfied: protobuf<5,>=3.20 in /Users/nuttee/Projects/nuttee-cloudrun-bigquery-with-langchain/venv/lib/python3.10/site-packages (from streamlit) (4.23.2)\n",
            "Requirement already satisfied: validators<1,>=0.2 in /Users/nuttee/Projects/nuttee-cloudrun-bigquery-with-langchain/venv/lib/python3.10/site-packages (from streamlit) (0.20.0)\n",
            "Requirement already satisfied: pympler<2,>=0.9 in /Users/nuttee/Projects/nuttee-cloudrun-bigquery-with-langchain/venv/lib/python3.10/site-packages (from streamlit) (1.0.1)\n",
            "Requirement already satisfied: packaging<24,>=14.1 in /Users/nuttee/Projects/nuttee-cloudrun-bigquery-with-langchain/venv/lib/python3.10/site-packages (from streamlit) (23.1)\n",
            "Requirement already satisfied: numpy<2,>=1 in /Users/nuttee/Projects/nuttee-cloudrun-bigquery-with-langchain/venv/lib/python3.10/site-packages (from streamlit) (1.24.3)\n",
            "Requirement already satisfied: pandas<3,>=0.25 in /Users/nuttee/Projects/nuttee-cloudrun-bigquery-with-langchain/venv/lib/python3.10/site-packages (from streamlit) (2.0.2)\n",
            "Requirement already satisfied: tzlocal<5,>=1.1 in /Users/nuttee/Projects/nuttee-cloudrun-bigquery-with-langchain/venv/lib/python3.10/site-packages (from streamlit) (4.3.1)\n",
            "Requirement already satisfied: typing-extensions<5,>=4.0.1 in /Users/nuttee/Projects/nuttee-cloudrun-bigquery-with-langchain/venv/lib/python3.10/site-packages (from streamlit) (4.6.3)\n",
            "Requirement already satisfied: tornado<7,>=6.0.3 in /Users/nuttee/Projects/nuttee-cloudrun-bigquery-with-langchain/venv/lib/python3.10/site-packages (from streamlit) (6.3.2)\n",
            "Requirement already satisfied: jsonschema>=3.0 in /Users/nuttee/Projects/nuttee-cloudrun-bigquery-with-langchain/venv/lib/python3.10/site-packages (from altair<6,>=4.0->streamlit) (4.17.3)\n",
            "Requirement already satisfied: toolz in /Users/nuttee/Projects/nuttee-cloudrun-bigquery-with-langchain/venv/lib/python3.10/site-packages (from altair<6,>=4.0->streamlit) (0.12.0)\n",
            "Requirement already satisfied: jinja2 in /Users/nuttee/Projects/nuttee-cloudrun-bigquery-with-langchain/venv/lib/python3.10/site-packages (from altair<6,>=4.0->streamlit) (3.1.2)\n",
            "Requirement already satisfied: gitdb<5,>=4.0.1 in /Users/nuttee/Projects/nuttee-cloudrun-bigquery-with-langchain/venv/lib/python3.10/site-packages (from gitpython!=3.1.19,<4,>=3->streamlit) (4.0.10)\n",
            "Requirement already satisfied: zipp>=0.5 in /Users/nuttee/Projects/nuttee-cloudrun-bigquery-with-langchain/venv/lib/python3.10/site-packages (from importlib-metadata<7,>=1.4->streamlit) (3.16.0)\n",
            "Requirement already satisfied: tzdata>=2022.1 in /Users/nuttee/Projects/nuttee-cloudrun-bigquery-with-langchain/venv/lib/python3.10/site-packages (from pandas<3,>=0.25->streamlit) (2023.3)\n",
            "Requirement already satisfied: pytz>=2020.1 in /Users/nuttee/Projects/nuttee-cloudrun-bigquery-with-langchain/venv/lib/python3.10/site-packages (from pandas<3,>=0.25->streamlit) (2023.3)\n",
            "Requirement already satisfied: six>=1.5 in /Users/nuttee/Projects/nuttee-cloudrun-bigquery-with-langchain/venv/lib/python3.10/site-packages (from python-dateutil<3,>=2->streamlit) (1.16.0)\n",
            "Requirement already satisfied: idna<4,>=2.5 in /Users/nuttee/Projects/nuttee-cloudrun-bigquery-with-langchain/venv/lib/python3.10/site-packages (from requests<3,>=2.4->streamlit) (3.4)\n",
            "Requirement already satisfied: urllib3<3,>=1.21.1 in /Users/nuttee/Projects/nuttee-cloudrun-bigquery-with-langchain/venv/lib/python3.10/site-packages (from requests<3,>=2.4->streamlit) (1.26.16)\n",
            "Requirement already satisfied: certifi>=2017.4.17 in /Users/nuttee/Projects/nuttee-cloudrun-bigquery-with-langchain/venv/lib/python3.10/site-packages (from requests<3,>=2.4->streamlit) (2023.5.7)\n",
            "Requirement already satisfied: charset-normalizer<4,>=2 in /Users/nuttee/Projects/nuttee-cloudrun-bigquery-with-langchain/venv/lib/python3.10/site-packages (from requests<3,>=2.4->streamlit) (3.1.0)\n",
            "Requirement already satisfied: pygments<3.0.0,>=2.13.0 in /Users/nuttee/Projects/nuttee-cloudrun-bigquery-with-langchain/venv/lib/python3.10/site-packages (from rich<14,>=10.11.0->streamlit) (2.15.1)\n",
            "Requirement already satisfied: markdown-it-py>=2.2.0 in /Users/nuttee/Projects/nuttee-cloudrun-bigquery-with-langchain/venv/lib/python3.10/site-packages (from rich<14,>=10.11.0->streamlit) (2.2.0)\n",
            "Requirement already satisfied: pytz-deprecation-shim in /Users/nuttee/Projects/nuttee-cloudrun-bigquery-with-langchain/venv/lib/python3.10/site-packages (from tzlocal<5,>=1.1->streamlit) (0.1.0.post0)\n",
            "Requirement already satisfied: decorator>=3.4.0 in /Users/nuttee/Projects/nuttee-cloudrun-bigquery-with-langchain/venv/lib/python3.10/site-packages (from validators<1,>=0.2->streamlit) (5.1.1)\n",
            "Requirement already satisfied: smmap<6,>=3.0.1 in /Users/nuttee/Projects/nuttee-cloudrun-bigquery-with-langchain/venv/lib/python3.10/site-packages (from gitdb<5,>=4.0.1->gitpython!=3.1.19,<4,>=3->streamlit) (5.0.0)\n",
            "Requirement already satisfied: MarkupSafe>=2.0 in /Users/nuttee/Projects/nuttee-cloudrun-bigquery-with-langchain/venv/lib/python3.10/site-packages (from jinja2->altair<6,>=4.0->streamlit) (2.1.3)\n",
            "Requirement already satisfied: pyrsistent!=0.17.0,!=0.17.1,!=0.17.2,>=0.14.0 in /Users/nuttee/Projects/nuttee-cloudrun-bigquery-with-langchain/venv/lib/python3.10/site-packages (from jsonschema>=3.0->altair<6,>=4.0->streamlit) (0.19.3)\n",
            "Requirement already satisfied: attrs>=17.4.0 in /Users/nuttee/Projects/nuttee-cloudrun-bigquery-with-langchain/venv/lib/python3.10/site-packages (from jsonschema>=3.0->altair<6,>=4.0->streamlit) (23.1.0)\n",
            "Requirement already satisfied: mdurl~=0.1 in /Users/nuttee/Projects/nuttee-cloudrun-bigquery-with-langchain/venv/lib/python3.10/site-packages (from markdown-it-py>=2.2.0->rich<14,>=10.11.0->streamlit) (0.1.2)\n",
            "\n",
            "\u001b[1m[\u001b[0m\u001b[34;49mnotice\u001b[0m\u001b[1;39;49m]\u001b[0m\u001b[39;49m A new release of pip is available: \u001b[0m\u001b[31;49m23.0.1\u001b[0m\u001b[39;49m -> \u001b[0m\u001b[32;49m23.1.2\u001b[0m\n",
            "\u001b[1m[\u001b[0m\u001b[34;49mnotice\u001b[0m\u001b[1;39;49m]\u001b[0m\u001b[39;49m To update, run: \u001b[0m\u001b[32;49mpip install --upgrade pip\u001b[0m\n",
            "Requirement already satisfied: langchain in /Users/nuttee/Projects/nuttee-cloudrun-bigquery-with-langchain/venv/lib/python3.10/site-packages (0.0.201)\n",
            "Requirement already satisfied: langchainplus-sdk>=0.0.9 in /Users/nuttee/Projects/nuttee-cloudrun-bigquery-with-langchain/venv/lib/python3.10/site-packages (from langchain) (0.0.10)\n",
            "Requirement already satisfied: SQLAlchemy<3,>=1.4 in /Users/nuttee/Projects/nuttee-cloudrun-bigquery-with-langchain/venv/lib/python3.10/site-packages (from langchain) (1.4.48)\n",
            "Requirement already satisfied: dataclasses-json<0.6.0,>=0.5.7 in /Users/nuttee/Projects/nuttee-cloudrun-bigquery-with-langchain/venv/lib/python3.10/site-packages (from langchain) (0.5.8)\n",
            "Requirement already satisfied: aiohttp<4.0.0,>=3.8.3 in /Users/nuttee/Projects/nuttee-cloudrun-bigquery-with-langchain/venv/lib/python3.10/site-packages (from langchain) (3.8.4)\n",
            "Requirement already satisfied: tenacity<9.0.0,>=8.1.0 in /Users/nuttee/Projects/nuttee-cloudrun-bigquery-with-langchain/venv/lib/python3.10/site-packages (from langchain) (8.2.2)\n",
            "Requirement already satisfied: pydantic<2,>=1 in /Users/nuttee/Projects/nuttee-cloudrun-bigquery-with-langchain/venv/lib/python3.10/site-packages (from langchain) (1.9.0)\n",
            "Requirement already satisfied: requests<3,>=2 in /Users/nuttee/Projects/nuttee-cloudrun-bigquery-with-langchain/venv/lib/python3.10/site-packages (from langchain) (2.31.0)\n",
            "Requirement already satisfied: async-timeout<5.0.0,>=4.0.0 in /Users/nuttee/Projects/nuttee-cloudrun-bigquery-with-langchain/venv/lib/python3.10/site-packages (from langchain) (4.0.2)\n",
            "Requirement already satisfied: numexpr<3.0.0,>=2.8.4 in /Users/nuttee/Projects/nuttee-cloudrun-bigquery-with-langchain/venv/lib/python3.10/site-packages (from langchain) (2.8.4)\n",
            "Requirement already satisfied: PyYAML>=5.4.1 in /Users/nuttee/Projects/nuttee-cloudrun-bigquery-with-langchain/venv/lib/python3.10/site-packages (from langchain) (6.0)\n",
            "Requirement already satisfied: numpy<2,>=1 in /Users/nuttee/Projects/nuttee-cloudrun-bigquery-with-langchain/venv/lib/python3.10/site-packages (from langchain) (1.24.3)\n",
            "Requirement already satisfied: openapi-schema-pydantic<2.0,>=1.2 in /Users/nuttee/Projects/nuttee-cloudrun-bigquery-with-langchain/venv/lib/python3.10/site-packages (from langchain) (1.2.4)\n",
            "Requirement already satisfied: charset-normalizer<4.0,>=2.0 in /Users/nuttee/Projects/nuttee-cloudrun-bigquery-with-langchain/venv/lib/python3.10/site-packages (from aiohttp<4.0.0,>=3.8.3->langchain) (3.1.0)\n",
            "Requirement already satisfied: attrs>=17.3.0 in /Users/nuttee/Projects/nuttee-cloudrun-bigquery-with-langchain/venv/lib/python3.10/site-packages (from aiohttp<4.0.0,>=3.8.3->langchain) (23.1.0)\n",
            "Requirement already satisfied: frozenlist>=1.1.1 in /Users/nuttee/Projects/nuttee-cloudrun-bigquery-with-langchain/venv/lib/python3.10/site-packages (from aiohttp<4.0.0,>=3.8.3->langchain) (1.3.3)\n",
            "Requirement already satisfied: multidict<7.0,>=4.5 in /Users/nuttee/Projects/nuttee-cloudrun-bigquery-with-langchain/venv/lib/python3.10/site-packages (from aiohttp<4.0.0,>=3.8.3->langchain) (6.0.4)\n",
            "Requirement already satisfied: yarl<2.0,>=1.0 in /Users/nuttee/Projects/nuttee-cloudrun-bigquery-with-langchain/venv/lib/python3.10/site-packages (from aiohttp<4.0.0,>=3.8.3->langchain) (1.9.2)\n",
            "Requirement already satisfied: aiosignal>=1.1.2 in /Users/nuttee/Projects/nuttee-cloudrun-bigquery-with-langchain/venv/lib/python3.10/site-packages (from aiohttp<4.0.0,>=3.8.3->langchain) (1.3.1)\n",
            "Requirement already satisfied: typing-inspect>=0.4.0 in /Users/nuttee/Projects/nuttee-cloudrun-bigquery-with-langchain/venv/lib/python3.10/site-packages (from dataclasses-json<0.6.0,>=0.5.7->langchain) (0.9.0)\n",
            "Requirement already satisfied: marshmallow<4.0.0,>=3.3.0 in /Users/nuttee/Projects/nuttee-cloudrun-bigquery-with-langchain/venv/lib/python3.10/site-packages (from dataclasses-json<0.6.0,>=0.5.7->langchain) (3.19.0)\n",
            "Requirement already satisfied: marshmallow-enum<2.0.0,>=1.5.1 in /Users/nuttee/Projects/nuttee-cloudrun-bigquery-with-langchain/venv/lib/python3.10/site-packages (from dataclasses-json<0.6.0,>=0.5.7->langchain) (1.5.1)\n",
            "Requirement already satisfied: typing-extensions>=3.7.4.3 in /Users/nuttee/Projects/nuttee-cloudrun-bigquery-with-langchain/venv/lib/python3.10/site-packages (from pydantic<2,>=1->langchain) (4.6.3)\n",
            "Requirement already satisfied: certifi>=2017.4.17 in /Users/nuttee/Projects/nuttee-cloudrun-bigquery-with-langchain/venv/lib/python3.10/site-packages (from requests<3,>=2->langchain) (2023.5.7)\n",
            "Requirement already satisfied: urllib3<3,>=1.21.1 in /Users/nuttee/Projects/nuttee-cloudrun-bigquery-with-langchain/venv/lib/python3.10/site-packages (from requests<3,>=2->langchain) (1.26.16)\n",
            "Requirement already satisfied: idna<4,>=2.5 in /Users/nuttee/Projects/nuttee-cloudrun-bigquery-with-langchain/venv/lib/python3.10/site-packages (from requests<3,>=2->langchain) (3.4)\n",
            "Requirement already satisfied: greenlet!=0.4.17 in /Users/nuttee/Projects/nuttee-cloudrun-bigquery-with-langchain/venv/lib/python3.10/site-packages (from SQLAlchemy<3,>=1.4->langchain) (2.0.2)\n",
            "Requirement already satisfied: packaging>=17.0 in /Users/nuttee/Projects/nuttee-cloudrun-bigquery-with-langchain/venv/lib/python3.10/site-packages (from marshmallow<4.0.0,>=3.3.0->dataclasses-json<0.6.0,>=0.5.7->langchain) (23.1)\n",
            "Requirement already satisfied: mypy-extensions>=0.3.0 in /Users/nuttee/Projects/nuttee-cloudrun-bigquery-with-langchain/venv/lib/python3.10/site-packages (from typing-inspect>=0.4.0->dataclasses-json<0.6.0,>=0.5.7->langchain) (1.0.0)\n",
            "\n",
            "\u001b[1m[\u001b[0m\u001b[34;49mnotice\u001b[0m\u001b[1;39;49m]\u001b[0m\u001b[39;49m A new release of pip is available: \u001b[0m\u001b[31;49m23.0.1\u001b[0m\u001b[39;49m -> \u001b[0m\u001b[32;49m23.1.2\u001b[0m\n",
            "\u001b[1m[\u001b[0m\u001b[34;49mnotice\u001b[0m\u001b[1;39;49m]\u001b[0m\u001b[39;49m To update, run: \u001b[0m\u001b[32;49mpip install --upgrade pip\u001b[0m\n",
            "Requirement already satisfied: google-cloud-aiplatform in /Users/nuttee/Projects/nuttee-cloudrun-bigquery-with-langchain/venv/lib/python3.10/site-packages (1.26.0)\n",
            "Requirement already satisfied: proto-plus<2.0.0dev,>=1.22.0 in /Users/nuttee/Projects/nuttee-cloudrun-bigquery-with-langchain/venv/lib/python3.10/site-packages (from google-cloud-aiplatform) (1.22.2)\n",
            "Requirement already satisfied: google-api-core[grpc]!=2.0.*,!=2.1.*,!=2.2.*,!=2.3.*,!=2.4.*,!=2.5.*,!=2.6.*,!=2.7.*,<3.0.0dev,>=1.32.0 in /Users/nuttee/Projects/nuttee-cloudrun-bigquery-with-langchain/venv/lib/python3.10/site-packages (from google-cloud-aiplatform) (2.11.0)\n",
            "Requirement already satisfied: google-cloud-storage<3.0.0dev,>=1.32.0 in /Users/nuttee/Projects/nuttee-cloudrun-bigquery-with-langchain/venv/lib/python3.10/site-packages (from google-cloud-aiplatform) (2.9.0)\n",
            "Requirement already satisfied: packaging>=14.3 in /Users/nuttee/Projects/nuttee-cloudrun-bigquery-with-langchain/venv/lib/python3.10/site-packages (from google-cloud-aiplatform) (23.1)\n",
            "Requirement already satisfied: shapely<2.0.0 in /Users/nuttee/Projects/nuttee-cloudrun-bigquery-with-langchain/venv/lib/python3.10/site-packages (from google-cloud-aiplatform) (1.8.5.post1)\n",
            "Requirement already satisfied: google-cloud-bigquery<4.0.0dev,>=1.15.0 in /Users/nuttee/Projects/nuttee-cloudrun-bigquery-with-langchain/venv/lib/python3.10/site-packages (from google-cloud-aiplatform) (3.11.1)\n",
            "Requirement already satisfied: google-cloud-resource-manager<3.0.0dev,>=1.3.3 in /Users/nuttee/Projects/nuttee-cloudrun-bigquery-with-langchain/venv/lib/python3.10/site-packages (from google-cloud-aiplatform) (1.10.1)\n",
            "Requirement already satisfied: protobuf!=3.20.0,!=3.20.1,!=4.21.0,!=4.21.1,!=4.21.2,!=4.21.3,!=4.21.4,!=4.21.5,<5.0.0dev,>=3.19.5 in /Users/nuttee/Projects/nuttee-cloudrun-bigquery-with-langchain/venv/lib/python3.10/site-packages (from google-cloud-aiplatform) (4.23.2)\n",
            "Requirement already satisfied: google-auth<3.0dev,>=2.14.1 in /Users/nuttee/Projects/nuttee-cloudrun-bigquery-with-langchain/venv/lib/python3.10/site-packages (from google-api-core[grpc]!=2.0.*,!=2.1.*,!=2.2.*,!=2.3.*,!=2.4.*,!=2.5.*,!=2.6.*,!=2.7.*,<3.0.0dev,>=1.32.0->google-cloud-aiplatform) (2.20.0)\n",
            "Requirement already satisfied: googleapis-common-protos<2.0dev,>=1.56.2 in /Users/nuttee/Projects/nuttee-cloudrun-bigquery-with-langchain/venv/lib/python3.10/site-packages (from google-api-core[grpc]!=2.0.*,!=2.1.*,!=2.2.*,!=2.3.*,!=2.4.*,!=2.5.*,!=2.6.*,!=2.7.*,<3.0.0dev,>=1.32.0->google-cloud-aiplatform) (1.59.1)\n",
            "Requirement already satisfied: requests<3.0.0dev,>=2.18.0 in /Users/nuttee/Projects/nuttee-cloudrun-bigquery-with-langchain/venv/lib/python3.10/site-packages (from google-api-core[grpc]!=2.0.*,!=2.1.*,!=2.2.*,!=2.3.*,!=2.4.*,!=2.5.*,!=2.6.*,!=2.7.*,<3.0.0dev,>=1.32.0->google-cloud-aiplatform) (2.31.0)\n",
            "Requirement already satisfied: grpcio-status<2.0dev,>=1.33.2 in /Users/nuttee/Projects/nuttee-cloudrun-bigquery-with-langchain/venv/lib/python3.10/site-packages (from google-api-core[grpc]!=2.0.*,!=2.1.*,!=2.2.*,!=2.3.*,!=2.4.*,!=2.5.*,!=2.6.*,!=2.7.*,<3.0.0dev,>=1.32.0->google-cloud-aiplatform) (1.54.2)\n",
            "Requirement already satisfied: grpcio<2.0dev,>=1.33.2 in /Users/nuttee/Projects/nuttee-cloudrun-bigquery-with-langchain/venv/lib/python3.10/site-packages (from google-api-core[grpc]!=2.0.*,!=2.1.*,!=2.2.*,!=2.3.*,!=2.4.*,!=2.5.*,!=2.6.*,!=2.7.*,<3.0.0dev,>=1.32.0->google-cloud-aiplatform) (1.54.2)\n",
            "Requirement already satisfied: python-dateutil<3.0dev,>=2.7.2 in /Users/nuttee/Projects/nuttee-cloudrun-bigquery-with-langchain/venv/lib/python3.10/site-packages (from google-cloud-bigquery<4.0.0dev,>=1.15.0->google-cloud-aiplatform) (2.8.2)\n",
            "Requirement already satisfied: google-resumable-media<3.0dev,>=0.6.0 in /Users/nuttee/Projects/nuttee-cloudrun-bigquery-with-langchain/venv/lib/python3.10/site-packages (from google-cloud-bigquery<4.0.0dev,>=1.15.0->google-cloud-aiplatform) (2.5.0)\n",
            "Requirement already satisfied: google-cloud-core<3.0.0dev,>=1.6.0 in /Users/nuttee/Projects/nuttee-cloudrun-bigquery-with-langchain/venv/lib/python3.10/site-packages (from google-cloud-bigquery<4.0.0dev,>=1.15.0->google-cloud-aiplatform) (2.3.2)\n",
            "Requirement already satisfied: grpc-google-iam-v1<1.0.0dev,>=0.12.4 in /Users/nuttee/Projects/nuttee-cloudrun-bigquery-with-langchain/venv/lib/python3.10/site-packages (from google-cloud-resource-manager<3.0.0dev,>=1.3.3->google-cloud-aiplatform) (0.12.6)\n",
            "Requirement already satisfied: cachetools<6.0,>=2.0.0 in /Users/nuttee/Projects/nuttee-cloudrun-bigquery-with-langchain/venv/lib/python3.10/site-packages (from google-auth<3.0dev,>=2.14.1->google-api-core[grpc]!=2.0.*,!=2.1.*,!=2.2.*,!=2.3.*,!=2.4.*,!=2.5.*,!=2.6.*,!=2.7.*,<3.0.0dev,>=1.32.0->google-cloud-aiplatform) (5.3.1)\n",
            "Requirement already satisfied: six>=1.9.0 in /Users/nuttee/Projects/nuttee-cloudrun-bigquery-with-langchain/venv/lib/python3.10/site-packages (from google-auth<3.0dev,>=2.14.1->google-api-core[grpc]!=2.0.*,!=2.1.*,!=2.2.*,!=2.3.*,!=2.4.*,!=2.5.*,!=2.6.*,!=2.7.*,<3.0.0dev,>=1.32.0->google-cloud-aiplatform) (1.16.0)\n",
            "Requirement already satisfied: pyasn1-modules>=0.2.1 in /Users/nuttee/Projects/nuttee-cloudrun-bigquery-with-langchain/venv/lib/python3.10/site-packages (from google-auth<3.0dev,>=2.14.1->google-api-core[grpc]!=2.0.*,!=2.1.*,!=2.2.*,!=2.3.*,!=2.4.*,!=2.5.*,!=2.6.*,!=2.7.*,<3.0.0dev,>=1.32.0->google-cloud-aiplatform) (0.3.0)\n",
            "Requirement already satisfied: urllib3<2.0 in /Users/nuttee/Projects/nuttee-cloudrun-bigquery-with-langchain/venv/lib/python3.10/site-packages (from google-auth<3.0dev,>=2.14.1->google-api-core[grpc]!=2.0.*,!=2.1.*,!=2.2.*,!=2.3.*,!=2.4.*,!=2.5.*,!=2.6.*,!=2.7.*,<3.0.0dev,>=1.32.0->google-cloud-aiplatform) (1.26.16)\n",
            "Requirement already satisfied: rsa<5,>=3.1.4 in /Users/nuttee/Projects/nuttee-cloudrun-bigquery-with-langchain/venv/lib/python3.10/site-packages (from google-auth<3.0dev,>=2.14.1->google-api-core[grpc]!=2.0.*,!=2.1.*,!=2.2.*,!=2.3.*,!=2.4.*,!=2.5.*,!=2.6.*,!=2.7.*,<3.0.0dev,>=1.32.0->google-cloud-aiplatform) (4.9)\n",
            "Requirement already satisfied: google-crc32c<2.0dev,>=1.0 in /Users/nuttee/Projects/nuttee-cloudrun-bigquery-with-langchain/venv/lib/python3.10/site-packages (from google-resumable-media<3.0dev,>=0.6.0->google-cloud-bigquery<4.0.0dev,>=1.15.0->google-cloud-aiplatform) (1.5.0)\n",
            "Requirement already satisfied: idna<4,>=2.5 in /Users/nuttee/Projects/nuttee-cloudrun-bigquery-with-langchain/venv/lib/python3.10/site-packages (from requests<3.0.0dev,>=2.18.0->google-api-core[grpc]!=2.0.*,!=2.1.*,!=2.2.*,!=2.3.*,!=2.4.*,!=2.5.*,!=2.6.*,!=2.7.*,<3.0.0dev,>=1.32.0->google-cloud-aiplatform) (3.4)\n",
            "Requirement already satisfied: certifi>=2017.4.17 in /Users/nuttee/Projects/nuttee-cloudrun-bigquery-with-langchain/venv/lib/python3.10/site-packages (from requests<3.0.0dev,>=2.18.0->google-api-core[grpc]!=2.0.*,!=2.1.*,!=2.2.*,!=2.3.*,!=2.4.*,!=2.5.*,!=2.6.*,!=2.7.*,<3.0.0dev,>=1.32.0->google-cloud-aiplatform) (2023.5.7)\n",
            "Requirement already satisfied: charset-normalizer<4,>=2 in /Users/nuttee/Projects/nuttee-cloudrun-bigquery-with-langchain/venv/lib/python3.10/site-packages (from requests<3.0.0dev,>=2.18.0->google-api-core[grpc]!=2.0.*,!=2.1.*,!=2.2.*,!=2.3.*,!=2.4.*,!=2.5.*,!=2.6.*,!=2.7.*,<3.0.0dev,>=1.32.0->google-cloud-aiplatform) (3.1.0)\n",
            "Requirement already satisfied: pyasn1<0.6.0,>=0.4.6 in /Users/nuttee/Projects/nuttee-cloudrun-bigquery-with-langchain/venv/lib/python3.10/site-packages (from pyasn1-modules>=0.2.1->google-auth<3.0dev,>=2.14.1->google-api-core[grpc]!=2.0.*,!=2.1.*,!=2.2.*,!=2.3.*,!=2.4.*,!=2.5.*,!=2.6.*,!=2.7.*,<3.0.0dev,>=1.32.0->google-cloud-aiplatform) (0.5.0)\n",
            "\n",
            "\u001b[1m[\u001b[0m\u001b[34;49mnotice\u001b[0m\u001b[1;39;49m]\u001b[0m\u001b[39;49m A new release of pip is available: \u001b[0m\u001b[31;49m23.0.1\u001b[0m\u001b[39;49m -> \u001b[0m\u001b[32;49m23.1.2\u001b[0m\n",
            "\u001b[1m[\u001b[0m\u001b[34;49mnotice\u001b[0m\u001b[1;39;49m]\u001b[0m\u001b[39;49m To update, run: \u001b[0m\u001b[32;49mpip install --upgrade pip\u001b[0m\n",
            "Requirement already satisfied: chromadb in /Users/nuttee/Projects/nuttee-cloudrun-bigquery-with-langchain/venv/lib/python3.10/site-packages (0.3.27)\n",
            "Requirement already satisfied: fastapi==0.85.1 in /Users/nuttee/Projects/nuttee-cloudrun-bigquery-with-langchain/venv/lib/python3.10/site-packages (from chromadb) (0.85.1)\n",
            "Requirement already satisfied: tokenizers>=0.13.2 in /Users/nuttee/Projects/nuttee-cloudrun-bigquery-with-langchain/venv/lib/python3.10/site-packages (from chromadb) (0.13.3)\n",
            "Requirement already satisfied: typing-extensions>=4.5.0 in /Users/nuttee/Projects/nuttee-cloudrun-bigquery-with-langchain/venv/lib/python3.10/site-packages (from chromadb) (4.6.3)\n",
            "Requirement already satisfied: tqdm>=4.65.0 in /Users/nuttee/Projects/nuttee-cloudrun-bigquery-with-langchain/venv/lib/python3.10/site-packages (from chromadb) (4.65.0)\n",
            "Requirement already satisfied: duckdb>=0.7.1 in /Users/nuttee/Projects/nuttee-cloudrun-bigquery-with-langchain/venv/lib/python3.10/site-packages (from chromadb) (0.8.1)\n",
            "Requirement already satisfied: posthog>=2.4.0 in /Users/nuttee/Projects/nuttee-cloudrun-bigquery-with-langchain/venv/lib/python3.10/site-packages (from chromadb) (3.0.1)\n",
            "Requirement already satisfied: pandas>=1.3 in /Users/nuttee/Projects/nuttee-cloudrun-bigquery-with-langchain/venv/lib/python3.10/site-packages (from chromadb) (2.0.2)\n",
            "Requirement already satisfied: requests>=2.28 in /Users/nuttee/Projects/nuttee-cloudrun-bigquery-with-langchain/venv/lib/python3.10/site-packages (from chromadb) (2.31.0)\n",
            "Requirement already satisfied: hnswlib>=0.7 in /Users/nuttee/Projects/nuttee-cloudrun-bigquery-with-langchain/venv/lib/python3.10/site-packages (from chromadb) (0.7.0)\n",
            "Requirement already satisfied: pydantic==1.9 in /Users/nuttee/Projects/nuttee-cloudrun-bigquery-with-langchain/venv/lib/python3.10/site-packages (from chromadb) (1.9.0)\n",
            "Requirement already satisfied: overrides>=7.3.1 in /Users/nuttee/Projects/nuttee-cloudrun-bigquery-with-langchain/venv/lib/python3.10/site-packages (from chromadb) (7.3.1)\n",
            "Requirement already satisfied: uvicorn[standard]>=0.18.3 in /Users/nuttee/Projects/nuttee-cloudrun-bigquery-with-langchain/venv/lib/python3.10/site-packages (from chromadb) (0.22.0)\n",
            "Requirement already satisfied: clickhouse-connect>=0.5.7 in /Users/nuttee/Projects/nuttee-cloudrun-bigquery-with-langchain/venv/lib/python3.10/site-packages (from chromadb) (0.6.6)\n",
            "Requirement already satisfied: pulsar-client>=3.1.0 in /Users/nuttee/Projects/nuttee-cloudrun-bigquery-with-langchain/venv/lib/python3.10/site-packages (from chromadb) (3.2.0)\n",
            "Requirement already satisfied: onnxruntime>=1.14.1 in /Users/nuttee/Projects/nuttee-cloudrun-bigquery-with-langchain/venv/lib/python3.10/site-packages (from chromadb) (1.15.1)\n",
            "Requirement already satisfied: numpy>=1.21.6 in /Users/nuttee/Projects/nuttee-cloudrun-bigquery-with-langchain/venv/lib/python3.10/site-packages (from chromadb) (1.24.3)\n",
            "Requirement already satisfied: starlette==0.20.4 in /Users/nuttee/Projects/nuttee-cloudrun-bigquery-with-langchain/venv/lib/python3.10/site-packages (from fastapi==0.85.1->chromadb) (0.20.4)\n",
            "Requirement already satisfied: anyio<5,>=3.4.0 in /Users/nuttee/Projects/nuttee-cloudrun-bigquery-with-langchain/venv/lib/python3.10/site-packages (from starlette==0.20.4->fastapi==0.85.1->chromadb) (3.7.0)\n",
            "Requirement already satisfied: urllib3>=1.26 in /Users/nuttee/Projects/nuttee-cloudrun-bigquery-with-langchain/venv/lib/python3.10/site-packages (from clickhouse-connect>=0.5.7->chromadb) (1.26.16)\n",
            "Requirement already satisfied: lz4 in /Users/nuttee/Projects/nuttee-cloudrun-bigquery-with-langchain/venv/lib/python3.10/site-packages (from clickhouse-connect>=0.5.7->chromadb) (4.3.2)\n",
            "Requirement already satisfied: pytz in /Users/nuttee/Projects/nuttee-cloudrun-bigquery-with-langchain/venv/lib/python3.10/site-packages (from clickhouse-connect>=0.5.7->chromadb) (2023.3)\n",
            "Requirement already satisfied: importlib-metadata in /Users/nuttee/Projects/nuttee-cloudrun-bigquery-with-langchain/venv/lib/python3.10/site-packages (from clickhouse-connect>=0.5.7->chromadb) (6.8.0)\n",
            "Requirement already satisfied: certifi in /Users/nuttee/Projects/nuttee-cloudrun-bigquery-with-langchain/venv/lib/python3.10/site-packages (from clickhouse-connect>=0.5.7->chromadb) (2023.5.7)\n",
            "Requirement already satisfied: zstandard in /Users/nuttee/Projects/nuttee-cloudrun-bigquery-with-langchain/venv/lib/python3.10/site-packages (from clickhouse-connect>=0.5.7->chromadb) (0.21.0)\n",
            "Requirement already satisfied: coloredlogs in /Users/nuttee/Projects/nuttee-cloudrun-bigquery-with-langchain/venv/lib/python3.10/site-packages (from onnxruntime>=1.14.1->chromadb) (15.0.1)\n",
            "Requirement already satisfied: packaging in /Users/nuttee/Projects/nuttee-cloudrun-bigquery-with-langchain/venv/lib/python3.10/site-packages (from onnxruntime>=1.14.1->chromadb) (23.1)\n",
            "Requirement already satisfied: protobuf in /Users/nuttee/Projects/nuttee-cloudrun-bigquery-with-langchain/venv/lib/python3.10/site-packages (from onnxruntime>=1.14.1->chromadb) (4.23.2)\n",
            "Requirement already satisfied: flatbuffers in /Users/nuttee/Projects/nuttee-cloudrun-bigquery-with-langchain/venv/lib/python3.10/site-packages (from onnxruntime>=1.14.1->chromadb) (23.5.26)\n",
            "Requirement already satisfied: sympy in /Users/nuttee/Projects/nuttee-cloudrun-bigquery-with-langchain/venv/lib/python3.10/site-packages (from onnxruntime>=1.14.1->chromadb) (1.12)\n",
            "Requirement already satisfied: python-dateutil>=2.8.2 in /Users/nuttee/Projects/nuttee-cloudrun-bigquery-with-langchain/venv/lib/python3.10/site-packages (from pandas>=1.3->chromadb) (2.8.2)\n",
            "Requirement already satisfied: tzdata>=2022.1 in /Users/nuttee/Projects/nuttee-cloudrun-bigquery-with-langchain/venv/lib/python3.10/site-packages (from pandas>=1.3->chromadb) (2023.3)\n",
            "Requirement already satisfied: backoff>=1.10.0 in /Users/nuttee/Projects/nuttee-cloudrun-bigquery-with-langchain/venv/lib/python3.10/site-packages (from posthog>=2.4.0->chromadb) (2.2.1)\n",
            "Requirement already satisfied: monotonic>=1.5 in /Users/nuttee/Projects/nuttee-cloudrun-bigquery-with-langchain/venv/lib/python3.10/site-packages (from posthog>=2.4.0->chromadb) (1.6)\n",
            "Requirement already satisfied: six>=1.5 in /Users/nuttee/Projects/nuttee-cloudrun-bigquery-with-langchain/venv/lib/python3.10/site-packages (from posthog>=2.4.0->chromadb) (1.16.0)\n",
            "Requirement already satisfied: idna<4,>=2.5 in /Users/nuttee/Projects/nuttee-cloudrun-bigquery-with-langchain/venv/lib/python3.10/site-packages (from requests>=2.28->chromadb) (3.4)\n",
            "Requirement already satisfied: charset-normalizer<4,>=2 in /Users/nuttee/Projects/nuttee-cloudrun-bigquery-with-langchain/venv/lib/python3.10/site-packages (from requests>=2.28->chromadb) (3.1.0)\n",
            "Requirement already satisfied: h11>=0.8 in /Users/nuttee/Projects/nuttee-cloudrun-bigquery-with-langchain/venv/lib/python3.10/site-packages (from uvicorn[standard]>=0.18.3->chromadb) (0.14.0)\n",
            "Requirement already satisfied: click>=7.0 in /Users/nuttee/Projects/nuttee-cloudrun-bigquery-with-langchain/venv/lib/python3.10/site-packages (from uvicorn[standard]>=0.18.3->chromadb) (8.1.3)\n",
            "Requirement already satisfied: websockets>=10.4 in /Users/nuttee/Projects/nuttee-cloudrun-bigquery-with-langchain/venv/lib/python3.10/site-packages (from uvicorn[standard]>=0.18.3->chromadb) (11.0.3)\n",
            "Requirement already satisfied: uvloop!=0.15.0,!=0.15.1,>=0.14.0 in /Users/nuttee/Projects/nuttee-cloudrun-bigquery-with-langchain/venv/lib/python3.10/site-packages (from uvicorn[standard]>=0.18.3->chromadb) (0.17.0)\n",
            "Requirement already satisfied: pyyaml>=5.1 in /Users/nuttee/Projects/nuttee-cloudrun-bigquery-with-langchain/venv/lib/python3.10/site-packages (from uvicorn[standard]>=0.18.3->chromadb) (6.0)\n",
            "Requirement already satisfied: python-dotenv>=0.13 in /Users/nuttee/Projects/nuttee-cloudrun-bigquery-with-langchain/venv/lib/python3.10/site-packages (from uvicorn[standard]>=0.18.3->chromadb) (1.0.0)\n",
            "Requirement already satisfied: watchfiles>=0.13 in /Users/nuttee/Projects/nuttee-cloudrun-bigquery-with-langchain/venv/lib/python3.10/site-packages (from uvicorn[standard]>=0.18.3->chromadb) (0.19.0)\n",
            "Requirement already satisfied: httptools>=0.5.0 in /Users/nuttee/Projects/nuttee-cloudrun-bigquery-with-langchain/venv/lib/python3.10/site-packages (from uvicorn[standard]>=0.18.3->chromadb) (0.6.0)\n",
            "Requirement already satisfied: humanfriendly>=9.1 in /Users/nuttee/Projects/nuttee-cloudrun-bigquery-with-langchain/venv/lib/python3.10/site-packages (from coloredlogs->onnxruntime>=1.14.1->chromadb) (10.0)\n",
            "Requirement already satisfied: zipp>=0.5 in /Users/nuttee/Projects/nuttee-cloudrun-bigquery-with-langchain/venv/lib/python3.10/site-packages (from importlib-metadata->clickhouse-connect>=0.5.7->chromadb) (3.16.0)\n",
            "Requirement already satisfied: mpmath>=0.19 in /Users/nuttee/Projects/nuttee-cloudrun-bigquery-with-langchain/venv/lib/python3.10/site-packages (from sympy->onnxruntime>=1.14.1->chromadb) (1.3.0)\n",
            "Requirement already satisfied: sniffio>=1.1 in /Users/nuttee/Projects/nuttee-cloudrun-bigquery-with-langchain/venv/lib/python3.10/site-packages (from anyio<5,>=3.4.0->starlette==0.20.4->fastapi==0.85.1->chromadb) (1.3.0)\n",
            "Requirement already satisfied: exceptiongroup in /Users/nuttee/Projects/nuttee-cloudrun-bigquery-with-langchain/venv/lib/python3.10/site-packages (from anyio<5,>=3.4.0->starlette==0.20.4->fastapi==0.85.1->chromadb) (1.1.1)\n",
            "\n",
            "\u001b[1m[\u001b[0m\u001b[34;49mnotice\u001b[0m\u001b[1;39;49m]\u001b[0m\u001b[39;49m A new release of pip is available: \u001b[0m\u001b[31;49m23.0.1\u001b[0m\u001b[39;49m -> \u001b[0m\u001b[32;49m23.1.2\u001b[0m\n",
            "\u001b[1m[\u001b[0m\u001b[34;49mnotice\u001b[0m\u001b[1;39;49m]\u001b[0m\u001b[39;49m To update, run: \u001b[0m\u001b[32;49mpip install --upgrade pip\u001b[0m\n",
            "Requirement already satisfied: transformers in /Users/nuttee/Projects/nuttee-cloudrun-bigquery-with-langchain/venv/lib/python3.10/site-packages (4.30.2)\n",
            "Requirement already satisfied: requests in /Users/nuttee/Projects/nuttee-cloudrun-bigquery-with-langchain/venv/lib/python3.10/site-packages (from transformers) (2.31.0)\n",
            "Requirement already satisfied: tokenizers!=0.11.3,<0.14,>=0.11.1 in /Users/nuttee/Projects/nuttee-cloudrun-bigquery-with-langchain/venv/lib/python3.10/site-packages (from transformers) (0.13.3)\n",
            "Requirement already satisfied: huggingface-hub<1.0,>=0.14.1 in /Users/nuttee/Projects/nuttee-cloudrun-bigquery-with-langchain/venv/lib/python3.10/site-packages (from transformers) (0.15.1)\n",
            "Requirement already satisfied: filelock in /Users/nuttee/Projects/nuttee-cloudrun-bigquery-with-langchain/venv/lib/python3.10/site-packages (from transformers) (3.12.2)\n",
            "Requirement already satisfied: regex!=2019.12.17 in /Users/nuttee/Projects/nuttee-cloudrun-bigquery-with-langchain/venv/lib/python3.10/site-packages (from transformers) (2023.6.3)\n",
            "Requirement already satisfied: numpy>=1.17 in /Users/nuttee/Projects/nuttee-cloudrun-bigquery-with-langchain/venv/lib/python3.10/site-packages (from transformers) (1.24.3)\n",
            "Requirement already satisfied: packaging>=20.0 in /Users/nuttee/Projects/nuttee-cloudrun-bigquery-with-langchain/venv/lib/python3.10/site-packages (from transformers) (23.1)\n",
            "Requirement already satisfied: safetensors>=0.3.1 in /Users/nuttee/Projects/nuttee-cloudrun-bigquery-with-langchain/venv/lib/python3.10/site-packages (from transformers) (0.3.1)\n",
            "Requirement already satisfied: tqdm>=4.27 in /Users/nuttee/Projects/nuttee-cloudrun-bigquery-with-langchain/venv/lib/python3.10/site-packages (from transformers) (4.65.0)\n",
            "Requirement already satisfied: pyyaml>=5.1 in /Users/nuttee/Projects/nuttee-cloudrun-bigquery-with-langchain/venv/lib/python3.10/site-packages (from transformers) (6.0)\n",
            "Requirement already satisfied: typing-extensions>=3.7.4.3 in /Users/nuttee/Projects/nuttee-cloudrun-bigquery-with-langchain/venv/lib/python3.10/site-packages (from huggingface-hub<1.0,>=0.14.1->transformers) (4.6.3)\n",
            "Requirement already satisfied: fsspec in /Users/nuttee/Projects/nuttee-cloudrun-bigquery-with-langchain/venv/lib/python3.10/site-packages (from huggingface-hub<1.0,>=0.14.1->transformers) (2023.6.0)\n",
            "Requirement already satisfied: urllib3<3,>=1.21.1 in /Users/nuttee/Projects/nuttee-cloudrun-bigquery-with-langchain/venv/lib/python3.10/site-packages (from requests->transformers) (1.26.16)\n",
            "Requirement already satisfied: charset-normalizer<4,>=2 in /Users/nuttee/Projects/nuttee-cloudrun-bigquery-with-langchain/venv/lib/python3.10/site-packages (from requests->transformers) (3.1.0)\n",
            "Requirement already satisfied: idna<4,>=2.5 in /Users/nuttee/Projects/nuttee-cloudrun-bigquery-with-langchain/venv/lib/python3.10/site-packages (from requests->transformers) (3.4)\n",
            "Requirement already satisfied: certifi>=2017.4.17 in /Users/nuttee/Projects/nuttee-cloudrun-bigquery-with-langchain/venv/lib/python3.10/site-packages (from requests->transformers) (2023.5.7)\n",
            "\n",
            "\u001b[1m[\u001b[0m\u001b[34;49mnotice\u001b[0m\u001b[1;39;49m]\u001b[0m\u001b[39;49m A new release of pip is available: \u001b[0m\u001b[31;49m23.0.1\u001b[0m\u001b[39;49m -> \u001b[0m\u001b[32;49m23.1.2\u001b[0m\n",
            "\u001b[1m[\u001b[0m\u001b[34;49mnotice\u001b[0m\u001b[1;39;49m]\u001b[0m\u001b[39;49m To update, run: \u001b[0m\u001b[32;49mpip install --upgrade pip\u001b[0m\n",
            "Requirement already satisfied: watchdog in /Users/nuttee/Projects/nuttee-cloudrun-bigquery-with-langchain/venv/lib/python3.10/site-packages (3.0.0)\n",
            "\n",
            "\u001b[1m[\u001b[0m\u001b[34;49mnotice\u001b[0m\u001b[1;39;49m]\u001b[0m\u001b[39;49m A new release of pip is available: \u001b[0m\u001b[31;49m23.0.1\u001b[0m\u001b[39;49m -> \u001b[0m\u001b[32;49m23.1.2\u001b[0m\n",
            "\u001b[1m[\u001b[0m\u001b[34;49mnotice\u001b[0m\u001b[1;39;49m]\u001b[0m\u001b[39;49m To update, run: \u001b[0m\u001b[32;49mpip install --upgrade pip\u001b[0m\n"
          ]
        }
      ],
      "source": [
        "!pip install streamlit\n",
        "!pip install langchain\n",
        "!pip install google-cloud-aiplatform\n",
        "!pip install chromadb\n",
        "!pip install transformers\n",
        "!pip install watchdog"
      ]
    },
    {
      "attachments": {},
      "cell_type": "markdown",
      "metadata": {
        "id": "AWnIeyS8-pxn"
      },
      "source": [
        "Create a Streamlit app and save to a local file"
      ]
    },
    {
      "cell_type": "code",
      "execution_count": 4,
      "metadata": {},
      "outputs": [
        {
          "name": "stdout",
          "output_type": "stream",
          "text": [
            "Your browser has been opened to visit:\n",
            "\n",
            "    https://accounts.google.com/o/oauth2/auth?response_type=code&client_id=32555940559.apps.googleusercontent.com&redirect_uri=http%3A%2F%2Flocalhost%3A8085%2F&scope=openid+https%3A%2F%2Fwww.googleapis.com%2Fauth%2Fuserinfo.email+https%3A%2F%2Fwww.googleapis.com%2Fauth%2Fcloud-platform+https%3A%2F%2Fwww.googleapis.com%2Fauth%2Fappengine.admin+https%3A%2F%2Fwww.googleapis.com%2Fauth%2Fsqlservice.login+https%3A%2F%2Fwww.googleapis.com%2Fauth%2Fcompute+https%3A%2F%2Fwww.googleapis.com%2Fauth%2Faccounts.reauth&state=zFETlcDmFZUjeZbMMYae7GoUQsgINq&access_type=offline&code_challenge=ToGaJDHlu_tAyvVT21UtFfkB-4YSXmvr66zVUeHKY68&code_challenge_method=S256\n",
            "\n",
            "\n",
            "You are now logged in as [nuttee@google.com].\n",
            "Your current project is [cloud-llm-preview4].  You can change this setting by running:\n",
            "  $ gcloud config set project PROJECT_ID\n"
          ]
        }
      ],
      "source": [
        "!gcloud auth login"
      ]
    },
    {
      "cell_type": "code",
      "execution_count": 5,
      "metadata": {},
      "outputs": [
        {
          "name": "stdout",
          "output_type": "stream",
          "text": [
            "Updated property [core/project].\n",
            "Your browser has been opened to visit:\n",
            "\n",
            "    https://accounts.google.com/o/oauth2/auth?response_type=code&client_id=764086051850-6qr4p6gpi6hn506pt8ejuq83di341hur.apps.googleusercontent.com&redirect_uri=http%3A%2F%2Flocalhost%3A8085%2F&scope=openid+https%3A%2F%2Fwww.googleapis.com%2Fauth%2Fuserinfo.email+https%3A%2F%2Fwww.googleapis.com%2Fauth%2Fcloud-platform+https%3A%2F%2Fwww.googleapis.com%2Fauth%2Fsqlservice.login+https%3A%2F%2Fwww.googleapis.com%2Fauth%2Faccounts.reauth&state=bTpG6neBljhEnDVTXb9Nmwgeqnkp2s&access_type=offline&code_challenge=zfK4WxiN1KgMue9AmEivoGXdF5Ryj02jOx-g_83ImVc&code_challenge_method=S256\n",
            "\n",
            "\n",
            "Credentials saved to file: [/Users/nuttee/.config/gcloud/application_default_credentials.json]\n",
            "\n",
            "These credentials will be used by any library that requests Application Default Credentials (ADC).\n",
            "\n",
            "Quota project \"cloud-llm-preview4\" was added to ADC which can be used by Google client libraries for billing and quota. Note that some services may still bill the project owning the resource.\n"
          ]
        }
      ],
      "source": [
        "!gcloud config set project cloud-llm-preview4\n",
        "!gcloud auth application-default login"
      ]
    },
    {
      "cell_type": "code",
      "execution_count": 11,
      "metadata": {},
      "outputs": [
        {
          "ename": "TypeError",
          "evalue": "issubclass() arg 1 must be a class",
          "output_type": "error",
          "traceback": [
            "\u001b[0;31m---------------------------------------------------------------------------\u001b[0m",
            "\u001b[0;31mTypeError\u001b[0m                                 Traceback (most recent call last)",
            "Cell \u001b[0;32mIn[11], line 3\u001b[0m\n\u001b[1;32m      1\u001b[0m \u001b[39mimport\u001b[39;00m \u001b[39mstreamlit\u001b[39;00m \u001b[39mas\u001b[39;00m \u001b[39mst\u001b[39;00m\n\u001b[1;32m      2\u001b[0m \u001b[39mimport\u001b[39;00m \u001b[39mvertexai\u001b[39;00m\n\u001b[0;32m----> 3\u001b[0m \u001b[39mfrom\u001b[39;00m \u001b[39mlangchain\u001b[39;00m \u001b[39mimport\u001b[39;00m VectorDBQA\n\u001b[1;32m      4\u001b[0m \u001b[39mfrom\u001b[39;00m \u001b[39mlangchain\u001b[39;00m\u001b[39m.\u001b[39;00m\u001b[39mdocument_loaders\u001b[39;00m \u001b[39mimport\u001b[39;00m TextLoader\n\u001b[1;32m      5\u001b[0m \u001b[39mfrom\u001b[39;00m \u001b[39mlangchain\u001b[39;00m\u001b[39m.\u001b[39;00m\u001b[39membeddings\u001b[39;00m \u001b[39mimport\u001b[39;00m VertexAIEmbeddings\n",
            "File \u001b[0;32m~/Projects/nuttee-cloudrun-bigquery-with-langchain/venv/lib/python3.10/site-packages/langchain/__init__.py:6\u001b[0m\n\u001b[1;32m      3\u001b[0m \u001b[39mfrom\u001b[39;00m \u001b[39mimportlib\u001b[39;00m \u001b[39mimport\u001b[39;00m metadata\n\u001b[1;32m      4\u001b[0m \u001b[39mfrom\u001b[39;00m \u001b[39mtyping\u001b[39;00m \u001b[39mimport\u001b[39;00m Optional\n\u001b[0;32m----> 6\u001b[0m \u001b[39mfrom\u001b[39;00m \u001b[39mlangchain\u001b[39;00m\u001b[39m.\u001b[39;00m\u001b[39magents\u001b[39;00m \u001b[39mimport\u001b[39;00m MRKLChain, ReActChain, SelfAskWithSearchChain\n\u001b[1;32m      7\u001b[0m \u001b[39mfrom\u001b[39;00m \u001b[39mlangchain\u001b[39;00m\u001b[39m.\u001b[39;00m\u001b[39mcache\u001b[39;00m \u001b[39mimport\u001b[39;00m BaseCache\n\u001b[1;32m      8\u001b[0m \u001b[39mfrom\u001b[39;00m \u001b[39mlangchain\u001b[39;00m\u001b[39m.\u001b[39;00m\u001b[39mchains\u001b[39;00m \u001b[39mimport\u001b[39;00m (\n\u001b[1;32m      9\u001b[0m     ConversationChain,\n\u001b[1;32m     10\u001b[0m     LLMBashChain,\n\u001b[0;32m   (...)\u001b[0m\n\u001b[1;32m     18\u001b[0m     VectorDBQAWithSourcesChain,\n\u001b[1;32m     19\u001b[0m )\n",
            "File \u001b[0;32m~/Projects/nuttee-cloudrun-bigquery-with-langchain/venv/lib/python3.10/site-packages/langchain/agents/__init__.py:2\u001b[0m\n\u001b[1;32m      1\u001b[0m \u001b[39m\"\"\"Interface for agents.\"\"\"\u001b[39;00m\n\u001b[0;32m----> 2\u001b[0m \u001b[39mfrom\u001b[39;00m \u001b[39mlangchain\u001b[39;00m\u001b[39m.\u001b[39;00m\u001b[39magents\u001b[39;00m\u001b[39m.\u001b[39;00m\u001b[39magent\u001b[39;00m \u001b[39mimport\u001b[39;00m (\n\u001b[1;32m      3\u001b[0m     Agent,\n\u001b[1;32m      4\u001b[0m     AgentExecutor,\n\u001b[1;32m      5\u001b[0m     AgentOutputParser,\n\u001b[1;32m      6\u001b[0m     BaseMultiActionAgent,\n\u001b[1;32m      7\u001b[0m     BaseSingleActionAgent,\n\u001b[1;32m      8\u001b[0m     LLMSingleActionAgent,\n\u001b[1;32m      9\u001b[0m )\n\u001b[1;32m     10\u001b[0m \u001b[39mfrom\u001b[39;00m \u001b[39mlangchain\u001b[39;00m\u001b[39m.\u001b[39;00m\u001b[39magents\u001b[39;00m\u001b[39m.\u001b[39;00m\u001b[39magent_toolkits\u001b[39;00m \u001b[39mimport\u001b[39;00m (\n\u001b[1;32m     11\u001b[0m     create_csv_agent,\n\u001b[1;32m     12\u001b[0m     create_json_agent,\n\u001b[0;32m   (...)\u001b[0m\n\u001b[1;32m     21\u001b[0m     create_vectorstore_router_agent,\n\u001b[1;32m     22\u001b[0m )\n\u001b[1;32m     23\u001b[0m \u001b[39mfrom\u001b[39;00m \u001b[39mlangchain\u001b[39;00m\u001b[39m.\u001b[39;00m\u001b[39magents\u001b[39;00m\u001b[39m.\u001b[39;00m\u001b[39magent_types\u001b[39;00m \u001b[39mimport\u001b[39;00m AgentType\n",
            "File \u001b[0;32m~/Projects/nuttee-cloudrun-bigquery-with-langchain/venv/lib/python3.10/site-packages/langchain/agents/agent.py:40\u001b[0m\n\u001b[1;32m     32\u001b[0m \u001b[39mfrom\u001b[39;00m \u001b[39mlangchain\u001b[39;00m\u001b[39m.\u001b[39;00m\u001b[39mschema\u001b[39;00m \u001b[39mimport\u001b[39;00m (\n\u001b[1;32m     33\u001b[0m     AgentAction,\n\u001b[1;32m     34\u001b[0m     AgentFinish,\n\u001b[0;32m   (...)\u001b[0m\n\u001b[1;32m     37\u001b[0m     OutputParserException,\n\u001b[1;32m     38\u001b[0m )\n\u001b[1;32m     39\u001b[0m \u001b[39mfrom\u001b[39;00m \u001b[39mlangchain\u001b[39;00m\u001b[39m.\u001b[39;00m\u001b[39mtools\u001b[39;00m\u001b[39m.\u001b[39;00m\u001b[39mbase\u001b[39;00m \u001b[39mimport\u001b[39;00m BaseTool\n\u001b[0;32m---> 40\u001b[0m \u001b[39mfrom\u001b[39;00m \u001b[39mlangchain\u001b[39;00m\u001b[39m.\u001b[39;00m\u001b[39mutilities\u001b[39;00m\u001b[39m.\u001b[39;00m\u001b[39masyncio\u001b[39;00m \u001b[39mimport\u001b[39;00m asyncio_timeout\n\u001b[1;32m     42\u001b[0m logger \u001b[39m=\u001b[39m logging\u001b[39m.\u001b[39mgetLogger(\u001b[39m__name__\u001b[39m)\n\u001b[1;32m     45\u001b[0m \u001b[39mclass\u001b[39;00m \u001b[39mBaseSingleActionAgent\u001b[39;00m(BaseModel):\n",
            "File \u001b[0;32m~/Projects/nuttee-cloudrun-bigquery-with-langchain/venv/lib/python3.10/site-packages/langchain/utilities/__init__.py:3\u001b[0m\n\u001b[1;32m      1\u001b[0m \u001b[39m\"\"\"General utilities.\"\"\"\u001b[39;00m\n\u001b[1;32m      2\u001b[0m \u001b[39mfrom\u001b[39;00m \u001b[39mlangchain\u001b[39;00m\u001b[39m.\u001b[39;00m\u001b[39mrequests\u001b[39;00m \u001b[39mimport\u001b[39;00m TextRequestsWrapper\n\u001b[0;32m----> 3\u001b[0m \u001b[39mfrom\u001b[39;00m \u001b[39mlangchain\u001b[39;00m\u001b[39m.\u001b[39;00m\u001b[39mutilities\u001b[39;00m\u001b[39m.\u001b[39;00m\u001b[39mapify\u001b[39;00m \u001b[39mimport\u001b[39;00m ApifyWrapper\n\u001b[1;32m      4\u001b[0m \u001b[39mfrom\u001b[39;00m \u001b[39mlangchain\u001b[39;00m\u001b[39m.\u001b[39;00m\u001b[39mutilities\u001b[39;00m\u001b[39m.\u001b[39;00m\u001b[39marxiv\u001b[39;00m \u001b[39mimport\u001b[39;00m ArxivAPIWrapper\n\u001b[1;32m      5\u001b[0m \u001b[39mfrom\u001b[39;00m \u001b[39mlangchain\u001b[39;00m\u001b[39m.\u001b[39;00m\u001b[39mutilities\u001b[39;00m\u001b[39m.\u001b[39;00m\u001b[39mawslambda\u001b[39;00m \u001b[39mimport\u001b[39;00m LambdaWrapper\n",
            "File \u001b[0;32m~/Projects/nuttee-cloudrun-bigquery-with-langchain/venv/lib/python3.10/site-packages/langchain/utilities/apify.py:5\u001b[0m\n\u001b[1;32m      1\u001b[0m \u001b[39mfrom\u001b[39;00m \u001b[39mtyping\u001b[39;00m \u001b[39mimport\u001b[39;00m Any, Callable, Dict, Optional\n\u001b[1;32m      3\u001b[0m \u001b[39mfrom\u001b[39;00m \u001b[39mpydantic\u001b[39;00m \u001b[39mimport\u001b[39;00m BaseModel, root_validator\n\u001b[0;32m----> 5\u001b[0m \u001b[39mfrom\u001b[39;00m \u001b[39mlangchain\u001b[39;00m\u001b[39m.\u001b[39;00m\u001b[39mdocument_loaders\u001b[39;00m \u001b[39mimport\u001b[39;00m ApifyDatasetLoader\n\u001b[1;32m      6\u001b[0m \u001b[39mfrom\u001b[39;00m \u001b[39mlangchain\u001b[39;00m\u001b[39m.\u001b[39;00m\u001b[39mdocument_loaders\u001b[39;00m\u001b[39m.\u001b[39;00m\u001b[39mbase\u001b[39;00m \u001b[39mimport\u001b[39;00m Document\n\u001b[1;32m      7\u001b[0m \u001b[39mfrom\u001b[39;00m \u001b[39mlangchain\u001b[39;00m\u001b[39m.\u001b[39;00m\u001b[39mutils\u001b[39;00m \u001b[39mimport\u001b[39;00m get_from_dict_or_env\n",
            "File \u001b[0;32m~/Projects/nuttee-cloudrun-bigquery-with-langchain/venv/lib/python3.10/site-packages/langchain/document_loaders/__init__.py:34\u001b[0m\n\u001b[1;32m     29\u001b[0m \u001b[39mfrom\u001b[39;00m \u001b[39mlangchain\u001b[39;00m\u001b[39m.\u001b[39;00m\u001b[39mdocument_loaders\u001b[39;00m\u001b[39m.\u001b[39;00m\u001b[39mduckdb_loader\u001b[39;00m \u001b[39mimport\u001b[39;00m DuckDBLoader\n\u001b[1;32m     30\u001b[0m \u001b[39mfrom\u001b[39;00m \u001b[39mlangchain\u001b[39;00m\u001b[39m.\u001b[39;00m\u001b[39mdocument_loaders\u001b[39;00m\u001b[39m.\u001b[39;00m\u001b[39memail\u001b[39;00m \u001b[39mimport\u001b[39;00m (\n\u001b[1;32m     31\u001b[0m     OutlookMessageLoader,\n\u001b[1;32m     32\u001b[0m     UnstructuredEmailLoader,\n\u001b[1;32m     33\u001b[0m )\n\u001b[0;32m---> 34\u001b[0m \u001b[39mfrom\u001b[39;00m \u001b[39mlangchain\u001b[39;00m\u001b[39m.\u001b[39;00m\u001b[39mdocument_loaders\u001b[39;00m\u001b[39m.\u001b[39;00m\u001b[39membaas\u001b[39;00m \u001b[39mimport\u001b[39;00m EmbaasBlobLoader, EmbaasLoader\n\u001b[1;32m     35\u001b[0m \u001b[39mfrom\u001b[39;00m \u001b[39mlangchain\u001b[39;00m\u001b[39m.\u001b[39;00m\u001b[39mdocument_loaders\u001b[39;00m\u001b[39m.\u001b[39;00m\u001b[39mepub\u001b[39;00m \u001b[39mimport\u001b[39;00m UnstructuredEPubLoader\n\u001b[1;32m     36\u001b[0m \u001b[39mfrom\u001b[39;00m \u001b[39mlangchain\u001b[39;00m\u001b[39m.\u001b[39;00m\u001b[39mdocument_loaders\u001b[39;00m\u001b[39m.\u001b[39;00m\u001b[39mevernote\u001b[39;00m \u001b[39mimport\u001b[39;00m EverNoteLoader\n",
            "File \u001b[0;32m~/Projects/nuttee-cloudrun-bigquery-with-langchain/venv/lib/python3.10/site-packages/langchain/document_loaders/embaas.py:52\u001b[0m\n\u001b[1;32m     48\u001b[0m     \u001b[39mbytes\u001b[39m: \u001b[39mstr\u001b[39m\n\u001b[1;32m     49\u001b[0m \u001b[39m    \u001b[39m\u001b[39m\"\"\"The base64 encoded bytes of the document to extract text from.\"\"\"\u001b[39;00m\n\u001b[0;32m---> 52\u001b[0m \u001b[39mclass\u001b[39;00m \u001b[39mBaseEmbaasLoader\u001b[39;00m(BaseModel):\n\u001b[1;32m     53\u001b[0m     embaas_api_key: Optional[\u001b[39mstr\u001b[39m] \u001b[39m=\u001b[39m \u001b[39mNone\u001b[39;00m\n\u001b[1;32m     54\u001b[0m     api_url: \u001b[39mstr\u001b[39m \u001b[39m=\u001b[39m EMBAAS_DOC_API_URL\n",
            "File \u001b[0;32m~/Projects/nuttee-cloudrun-bigquery-with-langchain/venv/lib/python3.10/site-packages/pydantic/main.py:204\u001b[0m, in \u001b[0;36mpydantic.main.ModelMetaclass.__new__\u001b[0;34m()\u001b[0m\n",
            "File \u001b[0;32m~/Projects/nuttee-cloudrun-bigquery-with-langchain/venv/lib/python3.10/site-packages/pydantic/fields.py:488\u001b[0m, in \u001b[0;36mpydantic.fields.ModelField.infer\u001b[0;34m()\u001b[0m\n",
            "File \u001b[0;32m~/Projects/nuttee-cloudrun-bigquery-with-langchain/venv/lib/python3.10/site-packages/pydantic/fields.py:419\u001b[0m, in \u001b[0;36mpydantic.fields.ModelField.__init__\u001b[0;34m()\u001b[0m\n",
            "File \u001b[0;32m~/Projects/nuttee-cloudrun-bigquery-with-langchain/venv/lib/python3.10/site-packages/pydantic/fields.py:539\u001b[0m, in \u001b[0;36mpydantic.fields.ModelField.prepare\u001b[0;34m()\u001b[0m\n",
            "File \u001b[0;32m~/Projects/nuttee-cloudrun-bigquery-with-langchain/venv/lib/python3.10/site-packages/pydantic/fields.py:801\u001b[0m, in \u001b[0;36mpydantic.fields.ModelField.populate_validators\u001b[0;34m()\u001b[0m\n",
            "File \u001b[0;32m~/Projects/nuttee-cloudrun-bigquery-with-langchain/venv/lib/python3.10/site-packages/pydantic/validators.py:696\u001b[0m, in \u001b[0;36mfind_validators\u001b[0;34m()\u001b[0m\n",
            "File \u001b[0;32m~/Projects/nuttee-cloudrun-bigquery-with-langchain/venv/lib/python3.10/site-packages/pydantic/validators.py:585\u001b[0m, in \u001b[0;36mpydantic.validators.make_typeddict_validator\u001b[0;34m()\u001b[0m\n",
            "File \u001b[0;32m~/Projects/nuttee-cloudrun-bigquery-with-langchain/venv/lib/python3.10/site-packages/pydantic/annotated_types.py:35\u001b[0m, in \u001b[0;36mpydantic.annotated_types.create_model_from_typeddict\u001b[0;34m()\u001b[0m\n",
            "File \u001b[0;32m~/Projects/nuttee-cloudrun-bigquery-with-langchain/venv/lib/python3.10/site-packages/pydantic/main.py:972\u001b[0m, in \u001b[0;36mpydantic.main.create_model\u001b[0;34m()\u001b[0m\n",
            "File \u001b[0;32m~/Projects/nuttee-cloudrun-bigquery-with-langchain/venv/lib/python3.10/site-packages/pydantic/main.py:204\u001b[0m, in \u001b[0;36mpydantic.main.ModelMetaclass.__new__\u001b[0;34m()\u001b[0m\n",
            "File \u001b[0;32m~/Projects/nuttee-cloudrun-bigquery-with-langchain/venv/lib/python3.10/site-packages/pydantic/fields.py:488\u001b[0m, in \u001b[0;36mpydantic.fields.ModelField.infer\u001b[0;34m()\u001b[0m\n",
            "File \u001b[0;32m~/Projects/nuttee-cloudrun-bigquery-with-langchain/venv/lib/python3.10/site-packages/pydantic/fields.py:419\u001b[0m, in \u001b[0;36mpydantic.fields.ModelField.__init__\u001b[0;34m()\u001b[0m\n",
            "File \u001b[0;32m~/Projects/nuttee-cloudrun-bigquery-with-langchain/venv/lib/python3.10/site-packages/pydantic/fields.py:534\u001b[0m, in \u001b[0;36mpydantic.fields.ModelField.prepare\u001b[0;34m()\u001b[0m\n",
            "File \u001b[0;32m~/Projects/nuttee-cloudrun-bigquery-with-langchain/venv/lib/python3.10/site-packages/pydantic/fields.py:638\u001b[0m, in \u001b[0;36mpydantic.fields.ModelField._type_analysis\u001b[0;34m()\u001b[0m\n",
            "File \u001b[0;32m/usr/local/Cellar/python@3.10/3.10.12/Frameworks/Python.framework/Versions/3.10/lib/python3.10/typing.py:1158\u001b[0m, in \u001b[0;36m_SpecialGenericAlias.__subclasscheck__\u001b[0;34m(self, cls)\u001b[0m\n\u001b[1;32m   1156\u001b[0m     \u001b[39mreturn\u001b[39;00m \u001b[39missubclass\u001b[39m(\u001b[39mcls\u001b[39m\u001b[39m.\u001b[39m__origin__, \u001b[39mself\u001b[39m\u001b[39m.\u001b[39m__origin__)\n\u001b[1;32m   1157\u001b[0m \u001b[39mif\u001b[39;00m \u001b[39mnot\u001b[39;00m \u001b[39misinstance\u001b[39m(\u001b[39mcls\u001b[39m, _GenericAlias):\n\u001b[0;32m-> 1158\u001b[0m     \u001b[39mreturn\u001b[39;00m \u001b[39missubclass\u001b[39;49m(\u001b[39mcls\u001b[39;49m, \u001b[39mself\u001b[39;49m\u001b[39m.\u001b[39;49m__origin__)\n\u001b[1;32m   1159\u001b[0m \u001b[39mreturn\u001b[39;00m \u001b[39msuper\u001b[39m()\u001b[39m.\u001b[39m\u001b[39m__subclasscheck__\u001b[39m(\u001b[39mcls\u001b[39m)\n",
            "\u001b[0;31mTypeError\u001b[0m: issubclass() arg 1 must be a class"
          ]
        }
      ],
      "source": [
        "import streamlit as st\n",
        "import vertexai\n",
        "from langchain import PromptTemplate\n",
        "from langchain import VectorDBQA\n",
        "from langchain.document_loaders import TextLoader\n",
        "from langchain.embeddings import VertexAIEmbeddings\n",
        "from langchain.llms import VertexAI\n",
        "from langchain.text_splitter import CharacterTextSplitter\n",
        "from langchain.vectorstores import Chroma\n"
      ]
    },
    {
      "cell_type": "code",
      "execution_count": 6,
      "metadata": {},
      "outputs": [],
      "source": [
        "# Initialize Vertex AI\n",
        "vertexai.init(project=\"cloud-llm-preview4\", location=\"us-central1\")\n",
        "\n",
        "llm = VertexAI(\n",
        "    model_name=\"text-bison@001\",\n",
        "    max_output_tokens=1024,\n",
        "    temperature=0.1,\n",
        "    top_p=0.8,\n",
        "    top_k=40,\n",
        "    verbose=True,)\n",
        "    \n",
        "embeddings = VertexAIEmbeddings()"
      ]
    },
    {
      "cell_type": "code",
      "execution_count": 17,
      "metadata": {},
      "outputs": [
        {
          "name": "stderr",
          "output_type": "stream",
          "text": [
            "Created a chunk of size 1697, which is longer than the specified 1000\n",
            "Created a chunk of size 1854, which is longer than the specified 1000\n",
            "Created a chunk of size 1672, which is longer than the specified 1000\n",
            "Created a chunk of size 2612, which is longer than the specified 1000\n",
            "Created a chunk of size 1618, which is longer than the specified 1000\n",
            "Created a chunk of size 1926, which is longer than the specified 1000\n",
            "Created a chunk of size 1880, which is longer than the specified 1000\n",
            "Created a chunk of size 1039, which is longer than the specified 1000\n",
            "Created a chunk of size 1428, which is longer than the specified 1000\n"
          ]
        }
      ],
      "source": [
        "loader = TextLoader(\"text_source/factsheet_xpresscash.txt\")\n",
        "documents = loader.load()\n",
        "text_splitter = CharacterTextSplitter(chunk_size=1000, chunk_overlap=0)\n",
        "texts = text_splitter.split_documents(documents)\n",
        "\n",
        "embeddings = VertexAIEmbeddings()\n",
        "xpress_cash_store = Chroma.from_documents(\n",
        "    texts, embeddings, collection_name=\"xpress-cash\"\n",
        ")"
      ]
    },
    {
      "cell_type": "code",
      "execution_count": 18,
      "metadata": {},
      "outputs": [],
      "source": [
        "# Toolkit and Agent\n",
        "from langchain.agents.agent_toolkits import (\n",
        "    create_vectorstore_agent,\n",
        "    VectorStoreToolkit,\n",
        "    VectorStoreInfo,\n",
        ")\n",
        "\n",
        "vectorstore_info = VectorStoreInfo(\n",
        "    name=\"xpress_cash\",\n",
        "    description=\"Xpress Cash finance product for quick loan\",\n",
        "    vectorstore=xpress_cash_store,\n",
        ")\n",
        "toolkit = VectorStoreToolkit(vectorstore_info=vectorstore_info, llm=llm)\n",
        "agent_executor = create_vectorstore_agent(llm=llm, toolkit=toolkit, verbose=True)"
      ]
    },
    {
      "cell_type": "code",
      "execution_count": 19,
      "metadata": {},
      "outputs": [
        {
          "name": "stdout",
          "output_type": "stream",
          "text": [
            "\n",
            "\n",
            "\u001b[1m> Entering new  chain...\u001b[0m\n",
            "\u001b[32;1m\u001b[1;3mI don't know what to do.\n",
            "Action: \n",
            "Action Input: \u001b[0m\n",
            "Observation:  is not a valid tool, try another one.\n",
            "Thought:\u001b[32;1m\u001b[1;3mI don't know what to do.\n",
            "Action: \n",
            "Action Input: \u001b[0m\n",
            "Observation:  is not a valid tool, try another one.\n",
            "Thought:\u001b[32;1m\u001b[1;3mI don't know what to do.\n",
            "Action: \n",
            "Action Input: \u001b[0m\n",
            "Observation:  is not a valid tool, try another one.\n",
            "Thought:"
          ]
        },
        {
          "ename": "KeyboardInterrupt",
          "evalue": "",
          "output_type": "error",
          "traceback": [
            "\u001b[0;31m---------------------------------------------------------------------------\u001b[0m",
            "\u001b[0;31mKeyboardInterrupt\u001b[0m                         Traceback (most recent call last)",
            "Cell \u001b[0;32mIn[19], line 9\u001b[0m\n\u001b[1;32m      1\u001b[0m question\u001b[39m=\u001b[39m\u001b[39m\"\"\"\u001b[39m\n\u001b[1;32m      2\u001b[0m \u001b[39mInstruction: Give an answer in Thai language\u001b[39m\n\u001b[1;32m      3\u001b[0m \u001b[39mผลิตภัณฑ์: xpress_cash\u001b[39m\n\u001b[0;32m   (...)\u001b[0m\n\u001b[1;32m      6\u001b[0m \u001b[39mไม่ได้ทำงานประจำ สมัครสินเชื่อเงินด่วนได้ไหม\u001b[39m\n\u001b[1;32m      7\u001b[0m \u001b[39m\"\"\"\u001b[39m\n\u001b[0;32m----> 9\u001b[0m agent_executor\u001b[39m.\u001b[39;49mrun(question)\n",
            "File \u001b[0;32m~/Projects/nuttee-cloudrun-bigquery-with-langchain/venv/lib/python3.10/site-packages/langchain/chains/base.py:267\u001b[0m, in \u001b[0;36mChain.run\u001b[0;34m(self, callbacks, tags, *args, **kwargs)\u001b[0m\n\u001b[1;32m    265\u001b[0m     \u001b[39mif\u001b[39;00m \u001b[39mlen\u001b[39m(args) \u001b[39m!=\u001b[39m \u001b[39m1\u001b[39m:\n\u001b[1;32m    266\u001b[0m         \u001b[39mraise\u001b[39;00m \u001b[39mValueError\u001b[39;00m(\u001b[39m\"\u001b[39m\u001b[39m`run` supports only one positional argument.\u001b[39m\u001b[39m\"\u001b[39m)\n\u001b[0;32m--> 267\u001b[0m     \u001b[39mreturn\u001b[39;00m \u001b[39mself\u001b[39;49m(args[\u001b[39m0\u001b[39;49m], callbacks\u001b[39m=\u001b[39;49mcallbacks, tags\u001b[39m=\u001b[39;49mtags)[\u001b[39mself\u001b[39m\u001b[39m.\u001b[39moutput_keys[\u001b[39m0\u001b[39m]]\n\u001b[1;32m    269\u001b[0m \u001b[39mif\u001b[39;00m kwargs \u001b[39mand\u001b[39;00m \u001b[39mnot\u001b[39;00m args:\n\u001b[1;32m    270\u001b[0m     \u001b[39mreturn\u001b[39;00m \u001b[39mself\u001b[39m(kwargs, callbacks\u001b[39m=\u001b[39mcallbacks, tags\u001b[39m=\u001b[39mtags)[\u001b[39mself\u001b[39m\u001b[39m.\u001b[39moutput_keys[\u001b[39m0\u001b[39m]]\n",
            "File \u001b[0;32m~/Projects/nuttee-cloudrun-bigquery-with-langchain/venv/lib/python3.10/site-packages/langchain/chains/base.py:149\u001b[0m, in \u001b[0;36mChain.__call__\u001b[0;34m(self, inputs, return_only_outputs, callbacks, tags, include_run_info)\u001b[0m\n\u001b[1;32m    147\u001b[0m \u001b[39mexcept\u001b[39;00m (\u001b[39mKeyboardInterrupt\u001b[39;00m, \u001b[39mException\u001b[39;00m) \u001b[39mas\u001b[39;00m e:\n\u001b[1;32m    148\u001b[0m     run_manager\u001b[39m.\u001b[39mon_chain_error(e)\n\u001b[0;32m--> 149\u001b[0m     \u001b[39mraise\u001b[39;00m e\n\u001b[1;32m    150\u001b[0m run_manager\u001b[39m.\u001b[39mon_chain_end(outputs)\n\u001b[1;32m    151\u001b[0m final_outputs: Dict[\u001b[39mstr\u001b[39m, Any] \u001b[39m=\u001b[39m \u001b[39mself\u001b[39m\u001b[39m.\u001b[39mprep_outputs(\n\u001b[1;32m    152\u001b[0m     inputs, outputs, return_only_outputs\n\u001b[1;32m    153\u001b[0m )\n",
            "File \u001b[0;32m~/Projects/nuttee-cloudrun-bigquery-with-langchain/venv/lib/python3.10/site-packages/langchain/chains/base.py:143\u001b[0m, in \u001b[0;36mChain.__call__\u001b[0;34m(self, inputs, return_only_outputs, callbacks, tags, include_run_info)\u001b[0m\n\u001b[1;32m    137\u001b[0m run_manager \u001b[39m=\u001b[39m callback_manager\u001b[39m.\u001b[39mon_chain_start(\n\u001b[1;32m    138\u001b[0m     dumpd(\u001b[39mself\u001b[39m),\n\u001b[1;32m    139\u001b[0m     inputs,\n\u001b[1;32m    140\u001b[0m )\n\u001b[1;32m    141\u001b[0m \u001b[39mtry\u001b[39;00m:\n\u001b[1;32m    142\u001b[0m     outputs \u001b[39m=\u001b[39m (\n\u001b[0;32m--> 143\u001b[0m         \u001b[39mself\u001b[39;49m\u001b[39m.\u001b[39;49m_call(inputs, run_manager\u001b[39m=\u001b[39;49mrun_manager)\n\u001b[1;32m    144\u001b[0m         \u001b[39mif\u001b[39;00m new_arg_supported\n\u001b[1;32m    145\u001b[0m         \u001b[39melse\u001b[39;00m \u001b[39mself\u001b[39m\u001b[39m.\u001b[39m_call(inputs)\n\u001b[1;32m    146\u001b[0m     )\n\u001b[1;32m    147\u001b[0m \u001b[39mexcept\u001b[39;00m (\u001b[39mKeyboardInterrupt\u001b[39;00m, \u001b[39mException\u001b[39;00m) \u001b[39mas\u001b[39;00m e:\n\u001b[1;32m    148\u001b[0m     run_manager\u001b[39m.\u001b[39mon_chain_error(e)\n",
            "File \u001b[0;32m~/Projects/nuttee-cloudrun-bigquery-with-langchain/venv/lib/python3.10/site-packages/langchain/agents/agent.py:957\u001b[0m, in \u001b[0;36mAgentExecutor._call\u001b[0;34m(self, inputs, run_manager)\u001b[0m\n\u001b[1;32m    955\u001b[0m \u001b[39m# We now enter the agent loop (until it returns something).\u001b[39;00m\n\u001b[1;32m    956\u001b[0m \u001b[39mwhile\u001b[39;00m \u001b[39mself\u001b[39m\u001b[39m.\u001b[39m_should_continue(iterations, time_elapsed):\n\u001b[0;32m--> 957\u001b[0m     next_step_output \u001b[39m=\u001b[39m \u001b[39mself\u001b[39;49m\u001b[39m.\u001b[39;49m_take_next_step(\n\u001b[1;32m    958\u001b[0m         name_to_tool_map,\n\u001b[1;32m    959\u001b[0m         color_mapping,\n\u001b[1;32m    960\u001b[0m         inputs,\n\u001b[1;32m    961\u001b[0m         intermediate_steps,\n\u001b[1;32m    962\u001b[0m         run_manager\u001b[39m=\u001b[39;49mrun_manager,\n\u001b[1;32m    963\u001b[0m     )\n\u001b[1;32m    964\u001b[0m     \u001b[39mif\u001b[39;00m \u001b[39misinstance\u001b[39m(next_step_output, AgentFinish):\n\u001b[1;32m    965\u001b[0m         \u001b[39mreturn\u001b[39;00m \u001b[39mself\u001b[39m\u001b[39m.\u001b[39m_return(\n\u001b[1;32m    966\u001b[0m             next_step_output, intermediate_steps, run_manager\u001b[39m=\u001b[39mrun_manager\n\u001b[1;32m    967\u001b[0m         )\n",
            "File \u001b[0;32m~/Projects/nuttee-cloudrun-bigquery-with-langchain/venv/lib/python3.10/site-packages/langchain/agents/agent.py:762\u001b[0m, in \u001b[0;36mAgentExecutor._take_next_step\u001b[0;34m(self, name_to_tool_map, color_mapping, inputs, intermediate_steps, run_manager)\u001b[0m\n\u001b[1;32m    756\u001b[0m \u001b[39m\u001b[39m\u001b[39m\"\"\"Take a single step in the thought-action-observation loop.\u001b[39;00m\n\u001b[1;32m    757\u001b[0m \n\u001b[1;32m    758\u001b[0m \u001b[39mOverride this to take control of how the agent makes and acts on choices.\u001b[39;00m\n\u001b[1;32m    759\u001b[0m \u001b[39m\"\"\"\u001b[39;00m\n\u001b[1;32m    760\u001b[0m \u001b[39mtry\u001b[39;00m:\n\u001b[1;32m    761\u001b[0m     \u001b[39m# Call the LLM to see what to do.\u001b[39;00m\n\u001b[0;32m--> 762\u001b[0m     output \u001b[39m=\u001b[39m \u001b[39mself\u001b[39;49m\u001b[39m.\u001b[39;49magent\u001b[39m.\u001b[39;49mplan(\n\u001b[1;32m    763\u001b[0m         intermediate_steps,\n\u001b[1;32m    764\u001b[0m         callbacks\u001b[39m=\u001b[39;49mrun_manager\u001b[39m.\u001b[39;49mget_child() \u001b[39mif\u001b[39;49;00m run_manager \u001b[39melse\u001b[39;49;00m \u001b[39mNone\u001b[39;49;00m,\n\u001b[1;32m    765\u001b[0m         \u001b[39m*\u001b[39;49m\u001b[39m*\u001b[39;49minputs,\n\u001b[1;32m    766\u001b[0m     )\n\u001b[1;32m    767\u001b[0m \u001b[39mexcept\u001b[39;00m OutputParserException \u001b[39mas\u001b[39;00m e:\n\u001b[1;32m    768\u001b[0m     \u001b[39mif\u001b[39;00m \u001b[39misinstance\u001b[39m(\u001b[39mself\u001b[39m\u001b[39m.\u001b[39mhandle_parsing_errors, \u001b[39mbool\u001b[39m):\n",
            "File \u001b[0;32m~/Projects/nuttee-cloudrun-bigquery-with-langchain/venv/lib/python3.10/site-packages/langchain/agents/agent.py:443\u001b[0m, in \u001b[0;36mAgent.plan\u001b[0;34m(self, intermediate_steps, callbacks, **kwargs)\u001b[0m\n\u001b[1;32m    431\u001b[0m \u001b[39m\u001b[39m\u001b[39m\"\"\"Given input, decided what to do.\u001b[39;00m\n\u001b[1;32m    432\u001b[0m \n\u001b[1;32m    433\u001b[0m \u001b[39mArgs:\u001b[39;00m\n\u001b[0;32m   (...)\u001b[0m\n\u001b[1;32m    440\u001b[0m \u001b[39m    Action specifying what tool to use.\u001b[39;00m\n\u001b[1;32m    441\u001b[0m \u001b[39m\"\"\"\u001b[39;00m\n\u001b[1;32m    442\u001b[0m full_inputs \u001b[39m=\u001b[39m \u001b[39mself\u001b[39m\u001b[39m.\u001b[39mget_full_inputs(intermediate_steps, \u001b[39m*\u001b[39m\u001b[39m*\u001b[39mkwargs)\n\u001b[0;32m--> 443\u001b[0m full_output \u001b[39m=\u001b[39m \u001b[39mself\u001b[39;49m\u001b[39m.\u001b[39;49mllm_chain\u001b[39m.\u001b[39;49mpredict(callbacks\u001b[39m=\u001b[39;49mcallbacks, \u001b[39m*\u001b[39;49m\u001b[39m*\u001b[39;49mfull_inputs)\n\u001b[1;32m    444\u001b[0m \u001b[39mreturn\u001b[39;00m \u001b[39mself\u001b[39m\u001b[39m.\u001b[39moutput_parser\u001b[39m.\u001b[39mparse(full_output)\n",
            "File \u001b[0;32m~/Projects/nuttee-cloudrun-bigquery-with-langchain/venv/lib/python3.10/site-packages/langchain/chains/llm.py:218\u001b[0m, in \u001b[0;36mLLMChain.predict\u001b[0;34m(self, callbacks, **kwargs)\u001b[0m\n\u001b[1;32m    203\u001b[0m \u001b[39mdef\u001b[39;00m \u001b[39mpredict\u001b[39m(\u001b[39mself\u001b[39m, callbacks: Callbacks \u001b[39m=\u001b[39m \u001b[39mNone\u001b[39;00m, \u001b[39m*\u001b[39m\u001b[39m*\u001b[39mkwargs: Any) \u001b[39m-\u001b[39m\u001b[39m>\u001b[39m \u001b[39mstr\u001b[39m:\n\u001b[1;32m    204\u001b[0m \u001b[39m    \u001b[39m\u001b[39m\"\"\"Format prompt with kwargs and pass to LLM.\u001b[39;00m\n\u001b[1;32m    205\u001b[0m \n\u001b[1;32m    206\u001b[0m \u001b[39m    Args:\u001b[39;00m\n\u001b[0;32m   (...)\u001b[0m\n\u001b[1;32m    216\u001b[0m \u001b[39m            completion = llm.predict(adjective=\"funny\")\u001b[39;00m\n\u001b[1;32m    217\u001b[0m \u001b[39m    \"\"\"\u001b[39;00m\n\u001b[0;32m--> 218\u001b[0m     \u001b[39mreturn\u001b[39;00m \u001b[39mself\u001b[39;49m(kwargs, callbacks\u001b[39m=\u001b[39;49mcallbacks)[\u001b[39mself\u001b[39m\u001b[39m.\u001b[39moutput_key]\n",
            "File \u001b[0;32m~/Projects/nuttee-cloudrun-bigquery-with-langchain/venv/lib/python3.10/site-packages/langchain/chains/base.py:149\u001b[0m, in \u001b[0;36mChain.__call__\u001b[0;34m(self, inputs, return_only_outputs, callbacks, tags, include_run_info)\u001b[0m\n\u001b[1;32m    147\u001b[0m \u001b[39mexcept\u001b[39;00m (\u001b[39mKeyboardInterrupt\u001b[39;00m, \u001b[39mException\u001b[39;00m) \u001b[39mas\u001b[39;00m e:\n\u001b[1;32m    148\u001b[0m     run_manager\u001b[39m.\u001b[39mon_chain_error(e)\n\u001b[0;32m--> 149\u001b[0m     \u001b[39mraise\u001b[39;00m e\n\u001b[1;32m    150\u001b[0m run_manager\u001b[39m.\u001b[39mon_chain_end(outputs)\n\u001b[1;32m    151\u001b[0m final_outputs: Dict[\u001b[39mstr\u001b[39m, Any] \u001b[39m=\u001b[39m \u001b[39mself\u001b[39m\u001b[39m.\u001b[39mprep_outputs(\n\u001b[1;32m    152\u001b[0m     inputs, outputs, return_only_outputs\n\u001b[1;32m    153\u001b[0m )\n",
            "File \u001b[0;32m~/Projects/nuttee-cloudrun-bigquery-with-langchain/venv/lib/python3.10/site-packages/langchain/chains/base.py:143\u001b[0m, in \u001b[0;36mChain.__call__\u001b[0;34m(self, inputs, return_only_outputs, callbacks, tags, include_run_info)\u001b[0m\n\u001b[1;32m    137\u001b[0m run_manager \u001b[39m=\u001b[39m callback_manager\u001b[39m.\u001b[39mon_chain_start(\n\u001b[1;32m    138\u001b[0m     dumpd(\u001b[39mself\u001b[39m),\n\u001b[1;32m    139\u001b[0m     inputs,\n\u001b[1;32m    140\u001b[0m )\n\u001b[1;32m    141\u001b[0m \u001b[39mtry\u001b[39;00m:\n\u001b[1;32m    142\u001b[0m     outputs \u001b[39m=\u001b[39m (\n\u001b[0;32m--> 143\u001b[0m         \u001b[39mself\u001b[39;49m\u001b[39m.\u001b[39;49m_call(inputs, run_manager\u001b[39m=\u001b[39;49mrun_manager)\n\u001b[1;32m    144\u001b[0m         \u001b[39mif\u001b[39;00m new_arg_supported\n\u001b[1;32m    145\u001b[0m         \u001b[39melse\u001b[39;00m \u001b[39mself\u001b[39m\u001b[39m.\u001b[39m_call(inputs)\n\u001b[1;32m    146\u001b[0m     )\n\u001b[1;32m    147\u001b[0m \u001b[39mexcept\u001b[39;00m (\u001b[39mKeyboardInterrupt\u001b[39;00m, \u001b[39mException\u001b[39;00m) \u001b[39mas\u001b[39;00m e:\n\u001b[1;32m    148\u001b[0m     run_manager\u001b[39m.\u001b[39mon_chain_error(e)\n",
            "File \u001b[0;32m~/Projects/nuttee-cloudrun-bigquery-with-langchain/venv/lib/python3.10/site-packages/langchain/chains/llm.py:74\u001b[0m, in \u001b[0;36mLLMChain._call\u001b[0;34m(self, inputs, run_manager)\u001b[0m\n\u001b[1;32m     69\u001b[0m \u001b[39mdef\u001b[39;00m \u001b[39m_call\u001b[39m(\n\u001b[1;32m     70\u001b[0m     \u001b[39mself\u001b[39m,\n\u001b[1;32m     71\u001b[0m     inputs: Dict[\u001b[39mstr\u001b[39m, Any],\n\u001b[1;32m     72\u001b[0m     run_manager: Optional[CallbackManagerForChainRun] \u001b[39m=\u001b[39m \u001b[39mNone\u001b[39;00m,\n\u001b[1;32m     73\u001b[0m ) \u001b[39m-\u001b[39m\u001b[39m>\u001b[39m Dict[\u001b[39mstr\u001b[39m, \u001b[39mstr\u001b[39m]:\n\u001b[0;32m---> 74\u001b[0m     response \u001b[39m=\u001b[39m \u001b[39mself\u001b[39;49m\u001b[39m.\u001b[39;49mgenerate([inputs], run_manager\u001b[39m=\u001b[39;49mrun_manager)\n\u001b[1;32m     75\u001b[0m     \u001b[39mreturn\u001b[39;00m \u001b[39mself\u001b[39m\u001b[39m.\u001b[39mcreate_outputs(response)[\u001b[39m0\u001b[39m]\n",
            "File \u001b[0;32m~/Projects/nuttee-cloudrun-bigquery-with-langchain/venv/lib/python3.10/site-packages/langchain/chains/llm.py:84\u001b[0m, in \u001b[0;36mLLMChain.generate\u001b[0;34m(self, input_list, run_manager)\u001b[0m\n\u001b[1;32m     82\u001b[0m \u001b[39m\u001b[39m\u001b[39m\"\"\"Generate LLM result from inputs.\"\"\"\u001b[39;00m\n\u001b[1;32m     83\u001b[0m prompts, stop \u001b[39m=\u001b[39m \u001b[39mself\u001b[39m\u001b[39m.\u001b[39mprep_prompts(input_list, run_manager\u001b[39m=\u001b[39mrun_manager)\n\u001b[0;32m---> 84\u001b[0m \u001b[39mreturn\u001b[39;00m \u001b[39mself\u001b[39;49m\u001b[39m.\u001b[39;49mllm\u001b[39m.\u001b[39;49mgenerate_prompt(\n\u001b[1;32m     85\u001b[0m     prompts, stop, callbacks\u001b[39m=\u001b[39;49mrun_manager\u001b[39m.\u001b[39;49mget_child() \u001b[39mif\u001b[39;49;00m run_manager \u001b[39melse\u001b[39;49;00m \u001b[39mNone\u001b[39;49;00m\n\u001b[1;32m     86\u001b[0m )\n",
            "File \u001b[0;32m~/Projects/nuttee-cloudrun-bigquery-with-langchain/venv/lib/python3.10/site-packages/langchain/llms/base.py:139\u001b[0m, in \u001b[0;36mBaseLLM.generate_prompt\u001b[0;34m(self, prompts, stop, callbacks, **kwargs)\u001b[0m\n\u001b[1;32m    131\u001b[0m \u001b[39mdef\u001b[39;00m \u001b[39mgenerate_prompt\u001b[39m(\n\u001b[1;32m    132\u001b[0m     \u001b[39mself\u001b[39m,\n\u001b[1;32m    133\u001b[0m     prompts: List[PromptValue],\n\u001b[0;32m   (...)\u001b[0m\n\u001b[1;32m    136\u001b[0m     \u001b[39m*\u001b[39m\u001b[39m*\u001b[39mkwargs: Any,\n\u001b[1;32m    137\u001b[0m ) \u001b[39m-\u001b[39m\u001b[39m>\u001b[39m LLMResult:\n\u001b[1;32m    138\u001b[0m     prompt_strings \u001b[39m=\u001b[39m [p\u001b[39m.\u001b[39mto_string() \u001b[39mfor\u001b[39;00m p \u001b[39min\u001b[39;00m prompts]\n\u001b[0;32m--> 139\u001b[0m     \u001b[39mreturn\u001b[39;00m \u001b[39mself\u001b[39;49m\u001b[39m.\u001b[39;49mgenerate(prompt_strings, stop\u001b[39m=\u001b[39;49mstop, callbacks\u001b[39m=\u001b[39;49mcallbacks, \u001b[39m*\u001b[39;49m\u001b[39m*\u001b[39;49mkwargs)\n",
            "File \u001b[0;32m~/Projects/nuttee-cloudrun-bigquery-with-langchain/venv/lib/python3.10/site-packages/langchain/llms/base.py:203\u001b[0m, in \u001b[0;36mBaseLLM.generate\u001b[0;34m(self, prompts, stop, callbacks, **kwargs)\u001b[0m\n\u001b[1;32m    201\u001b[0m \u001b[39mexcept\u001b[39;00m (\u001b[39mKeyboardInterrupt\u001b[39;00m, \u001b[39mException\u001b[39;00m) \u001b[39mas\u001b[39;00m e:\n\u001b[1;32m    202\u001b[0m     run_manager\u001b[39m.\u001b[39mon_llm_error(e)\n\u001b[0;32m--> 203\u001b[0m     \u001b[39mraise\u001b[39;00m e\n\u001b[1;32m    204\u001b[0m run_manager\u001b[39m.\u001b[39mon_llm_end(output)\n\u001b[1;32m    205\u001b[0m \u001b[39mif\u001b[39;00m run_manager:\n",
            "File \u001b[0;32m~/Projects/nuttee-cloudrun-bigquery-with-langchain/venv/lib/python3.10/site-packages/langchain/llms/base.py:195\u001b[0m, in \u001b[0;36mBaseLLM.generate\u001b[0;34m(self, prompts, stop, callbacks, **kwargs)\u001b[0m\n\u001b[1;32m    190\u001b[0m run_manager \u001b[39m=\u001b[39m callback_manager\u001b[39m.\u001b[39mon_llm_start(\n\u001b[1;32m    191\u001b[0m     dumpd(\u001b[39mself\u001b[39m), prompts, invocation_params\u001b[39m=\u001b[39mparams, options\u001b[39m=\u001b[39moptions\n\u001b[1;32m    192\u001b[0m )\n\u001b[1;32m    193\u001b[0m \u001b[39mtry\u001b[39;00m:\n\u001b[1;32m    194\u001b[0m     output \u001b[39m=\u001b[39m (\n\u001b[0;32m--> 195\u001b[0m         \u001b[39mself\u001b[39;49m\u001b[39m.\u001b[39;49m_generate(\n\u001b[1;32m    196\u001b[0m             prompts, stop\u001b[39m=\u001b[39;49mstop, run_manager\u001b[39m=\u001b[39;49mrun_manager, \u001b[39m*\u001b[39;49m\u001b[39m*\u001b[39;49mkwargs\n\u001b[1;32m    197\u001b[0m         )\n\u001b[1;32m    198\u001b[0m         \u001b[39mif\u001b[39;00m new_arg_supported\n\u001b[1;32m    199\u001b[0m         \u001b[39melse\u001b[39;00m \u001b[39mself\u001b[39m\u001b[39m.\u001b[39m_generate(prompts, stop\u001b[39m=\u001b[39mstop, \u001b[39m*\u001b[39m\u001b[39m*\u001b[39mkwargs)\n\u001b[1;32m    200\u001b[0m     )\n\u001b[1;32m    201\u001b[0m \u001b[39mexcept\u001b[39;00m (\u001b[39mKeyboardInterrupt\u001b[39;00m, \u001b[39mException\u001b[39;00m) \u001b[39mas\u001b[39;00m e:\n\u001b[1;32m    202\u001b[0m     run_manager\u001b[39m.\u001b[39mon_llm_error(e)\n",
            "File \u001b[0;32m~/Projects/nuttee-cloudrun-bigquery-with-langchain/venv/lib/python3.10/site-packages/langchain/llms/base.py:493\u001b[0m, in \u001b[0;36mLLM._generate\u001b[0;34m(self, prompts, stop, run_manager, **kwargs)\u001b[0m\n\u001b[1;32m    490\u001b[0m new_arg_supported \u001b[39m=\u001b[39m inspect\u001b[39m.\u001b[39msignature(\u001b[39mself\u001b[39m\u001b[39m.\u001b[39m_call)\u001b[39m.\u001b[39mparameters\u001b[39m.\u001b[39mget(\u001b[39m\"\u001b[39m\u001b[39mrun_manager\u001b[39m\u001b[39m\"\u001b[39m)\n\u001b[1;32m    491\u001b[0m \u001b[39mfor\u001b[39;00m prompt \u001b[39min\u001b[39;00m prompts:\n\u001b[1;32m    492\u001b[0m     text \u001b[39m=\u001b[39m (\n\u001b[0;32m--> 493\u001b[0m         \u001b[39mself\u001b[39;49m\u001b[39m.\u001b[39;49m_call(prompt, stop\u001b[39m=\u001b[39;49mstop, run_manager\u001b[39m=\u001b[39;49mrun_manager, \u001b[39m*\u001b[39;49m\u001b[39m*\u001b[39;49mkwargs)\n\u001b[1;32m    494\u001b[0m         \u001b[39mif\u001b[39;00m new_arg_supported\n\u001b[1;32m    495\u001b[0m         \u001b[39melse\u001b[39;00m \u001b[39mself\u001b[39m\u001b[39m.\u001b[39m_call(prompt, stop\u001b[39m=\u001b[39mstop, \u001b[39m*\u001b[39m\u001b[39m*\u001b[39mkwargs)\n\u001b[1;32m    496\u001b[0m     )\n\u001b[1;32m    497\u001b[0m     generations\u001b[39m.\u001b[39mappend([Generation(text\u001b[39m=\u001b[39mtext)])\n\u001b[1;32m    498\u001b[0m \u001b[39mreturn\u001b[39;00m LLMResult(generations\u001b[39m=\u001b[39mgenerations)\n",
            "File \u001b[0;32m~/Projects/nuttee-cloudrun-bigquery-with-langchain/venv/lib/python3.10/site-packages/langchain/llms/vertexai.py:118\u001b[0m, in \u001b[0;36mVertexAI._call\u001b[0;34m(self, prompt, stop, run_manager, **kwargs)\u001b[0m\n\u001b[1;32m    101\u001b[0m \u001b[39mdef\u001b[39;00m \u001b[39m_call\u001b[39m(\n\u001b[1;32m    102\u001b[0m     \u001b[39mself\u001b[39m,\n\u001b[1;32m    103\u001b[0m     prompt: \u001b[39mstr\u001b[39m,\n\u001b[0;32m   (...)\u001b[0m\n\u001b[1;32m    106\u001b[0m     \u001b[39m*\u001b[39m\u001b[39m*\u001b[39mkwargs: Any,\n\u001b[1;32m    107\u001b[0m ) \u001b[39m-\u001b[39m\u001b[39m>\u001b[39m \u001b[39mstr\u001b[39m:\n\u001b[1;32m    108\u001b[0m \u001b[39m    \u001b[39m\u001b[39m\"\"\"Call Vertex model to get predictions based on the prompt.\u001b[39;00m\n\u001b[1;32m    109\u001b[0m \n\u001b[1;32m    110\u001b[0m \u001b[39m    Args:\u001b[39;00m\n\u001b[0;32m   (...)\u001b[0m\n\u001b[1;32m    116\u001b[0m \u001b[39m        The string generated by the model.\u001b[39;00m\n\u001b[1;32m    117\u001b[0m \u001b[39m    \"\"\"\u001b[39;00m\n\u001b[0;32m--> 118\u001b[0m     \u001b[39mreturn\u001b[39;00m \u001b[39mself\u001b[39;49m\u001b[39m.\u001b[39;49m_predict(prompt, stop, \u001b[39m*\u001b[39;49m\u001b[39m*\u001b[39;49mkwargs)\n",
            "File \u001b[0;32m~/Projects/nuttee-cloudrun-bigquery-with-langchain/venv/lib/python3.10/site-packages/langchain/llms/vertexai.py:57\u001b[0m, in \u001b[0;36m_VertexAICommon._predict\u001b[0;34m(self, prompt, stop, **kwargs)\u001b[0m\n\u001b[1;32m     53\u001b[0m \u001b[39mdef\u001b[39;00m \u001b[39m_predict\u001b[39m(\n\u001b[1;32m     54\u001b[0m     \u001b[39mself\u001b[39m, prompt: \u001b[39mstr\u001b[39m, stop: Optional[List[\u001b[39mstr\u001b[39m]] \u001b[39m=\u001b[39m \u001b[39mNone\u001b[39;00m, \u001b[39m*\u001b[39m\u001b[39m*\u001b[39mkwargs: Any\n\u001b[1;32m     55\u001b[0m ) \u001b[39m-\u001b[39m\u001b[39m>\u001b[39m \u001b[39mstr\u001b[39m:\n\u001b[1;32m     56\u001b[0m     params \u001b[39m=\u001b[39m {\u001b[39m*\u001b[39m\u001b[39m*\u001b[39m\u001b[39mself\u001b[39m\u001b[39m.\u001b[39m_default_params, \u001b[39m*\u001b[39m\u001b[39m*\u001b[39mkwargs}\n\u001b[0;32m---> 57\u001b[0m     res \u001b[39m=\u001b[39m \u001b[39mself\u001b[39;49m\u001b[39m.\u001b[39;49mclient\u001b[39m.\u001b[39;49mpredict(prompt, \u001b[39m*\u001b[39;49m\u001b[39m*\u001b[39;49mparams)\n\u001b[1;32m     58\u001b[0m     \u001b[39mreturn\u001b[39;00m \u001b[39mself\u001b[39m\u001b[39m.\u001b[39m_enforce_stop_words(res\u001b[39m.\u001b[39mtext, stop)\n",
            "File \u001b[0;32m~/Projects/nuttee-cloudrun-bigquery-with-langchain/venv/lib/python3.10/site-packages/vertexai/language_models/_language_models.py:251\u001b[0m, in \u001b[0;36mTextGenerationModel.predict\u001b[0;34m(self, prompt, max_output_tokens, temperature, top_k, top_p)\u001b[0m\n\u001b[1;32m    229\u001b[0m \u001b[39mdef\u001b[39;00m \u001b[39mpredict\u001b[39m(\n\u001b[1;32m    230\u001b[0m     \u001b[39mself\u001b[39m,\n\u001b[1;32m    231\u001b[0m     prompt: \u001b[39mstr\u001b[39m,\n\u001b[0;32m   (...)\u001b[0m\n\u001b[1;32m    236\u001b[0m     top_p: \u001b[39mfloat\u001b[39m \u001b[39m=\u001b[39m _DEFAULT_TOP_P,\n\u001b[1;32m    237\u001b[0m ) \u001b[39m-\u001b[39m\u001b[39m>\u001b[39m \u001b[39m\"\u001b[39m\u001b[39mTextGenerationResponse\u001b[39m\u001b[39m\"\u001b[39m:\n\u001b[1;32m    238\u001b[0m \u001b[39m    \u001b[39m\u001b[39m\"\"\"Gets model response for a single prompt.\u001b[39;00m\n\u001b[1;32m    239\u001b[0m \n\u001b[1;32m    240\u001b[0m \u001b[39m    Args:\u001b[39;00m\n\u001b[0;32m   (...)\u001b[0m\n\u001b[1;32m    248\u001b[0m \u001b[39m        A `TextGenerationResponse` object that contains the text produced by the model.\u001b[39;00m\n\u001b[1;32m    249\u001b[0m \u001b[39m    \"\"\"\u001b[39;00m\n\u001b[0;32m--> 251\u001b[0m     \u001b[39mreturn\u001b[39;00m \u001b[39mself\u001b[39;49m\u001b[39m.\u001b[39;49m_batch_predict(\n\u001b[1;32m    252\u001b[0m         prompts\u001b[39m=\u001b[39;49m[prompt],\n\u001b[1;32m    253\u001b[0m         max_output_tokens\u001b[39m=\u001b[39;49mmax_output_tokens,\n\u001b[1;32m    254\u001b[0m         temperature\u001b[39m=\u001b[39;49mtemperature,\n\u001b[1;32m    255\u001b[0m         top_k\u001b[39m=\u001b[39;49mtop_k,\n\u001b[1;32m    256\u001b[0m         top_p\u001b[39m=\u001b[39;49mtop_p,\n\u001b[1;32m    257\u001b[0m     )[\u001b[39m0\u001b[39m]\n",
            "File \u001b[0;32m~/Projects/nuttee-cloudrun-bigquery-with-langchain/venv/lib/python3.10/site-packages/vertexai/language_models/_language_models.py:287\u001b[0m, in \u001b[0;36mTextGenerationModel._batch_predict\u001b[0;34m(self, prompts, max_output_tokens, temperature, top_k, top_p)\u001b[0m\n\u001b[1;32m    279\u001b[0m instances \u001b[39m=\u001b[39m [{\u001b[39m\"\u001b[39m\u001b[39mcontent\u001b[39m\u001b[39m\"\u001b[39m: \u001b[39mstr\u001b[39m(prompt)} \u001b[39mfor\u001b[39;00m prompt \u001b[39min\u001b[39;00m prompts]\n\u001b[1;32m    280\u001b[0m prediction_parameters \u001b[39m=\u001b[39m {\n\u001b[1;32m    281\u001b[0m     \u001b[39m\"\u001b[39m\u001b[39mtemperature\u001b[39m\u001b[39m\"\u001b[39m: temperature,\n\u001b[1;32m    282\u001b[0m     \u001b[39m\"\u001b[39m\u001b[39mmaxDecodeSteps\u001b[39m\u001b[39m\"\u001b[39m: max_output_tokens,\n\u001b[1;32m    283\u001b[0m     \u001b[39m\"\u001b[39m\u001b[39mtopP\u001b[39m\u001b[39m\"\u001b[39m: top_p,\n\u001b[1;32m    284\u001b[0m     \u001b[39m\"\u001b[39m\u001b[39mtopK\u001b[39m\u001b[39m\"\u001b[39m: top_k,\n\u001b[1;32m    285\u001b[0m }\n\u001b[0;32m--> 287\u001b[0m prediction_response \u001b[39m=\u001b[39m \u001b[39mself\u001b[39;49m\u001b[39m.\u001b[39;49m_endpoint\u001b[39m.\u001b[39;49mpredict(\n\u001b[1;32m    288\u001b[0m     instances\u001b[39m=\u001b[39;49minstances,\n\u001b[1;32m    289\u001b[0m     parameters\u001b[39m=\u001b[39;49mprediction_parameters,\n\u001b[1;32m    290\u001b[0m )\n\u001b[1;32m    292\u001b[0m \u001b[39mreturn\u001b[39;00m [\n\u001b[1;32m    293\u001b[0m     TextGenerationResponse(\n\u001b[1;32m    294\u001b[0m         text\u001b[39m=\u001b[39mprediction[\u001b[39m\"\u001b[39m\u001b[39mcontent\u001b[39m\u001b[39m\"\u001b[39m],\n\u001b[0;32m   (...)\u001b[0m\n\u001b[1;32m    297\u001b[0m     \u001b[39mfor\u001b[39;00m prediction \u001b[39min\u001b[39;00m prediction_response\u001b[39m.\u001b[39mpredictions\n\u001b[1;32m    298\u001b[0m ]\n",
            "File \u001b[0;32m~/Projects/nuttee-cloudrun-bigquery-with-langchain/venv/lib/python3.10/site-packages/google/cloud/aiplatform/models.py:1559\u001b[0m, in \u001b[0;36mEndpoint.predict\u001b[0;34m(self, instances, parameters, timeout, use_raw_predict)\u001b[0m\n\u001b[1;32m   1546\u001b[0m     \u001b[39mreturn\u001b[39;00m Prediction(\n\u001b[1;32m   1547\u001b[0m         predictions\u001b[39m=\u001b[39mjson_response[\u001b[39m\"\u001b[39m\u001b[39mpredictions\u001b[39m\u001b[39m\"\u001b[39m],\n\u001b[1;32m   1548\u001b[0m         deployed_model_id\u001b[39m=\u001b[39mraw_predict_response\u001b[39m.\u001b[39mheaders[\n\u001b[0;32m   (...)\u001b[0m\n\u001b[1;32m   1556\u001b[0m         ),\n\u001b[1;32m   1557\u001b[0m     )\n\u001b[1;32m   1558\u001b[0m \u001b[39melse\u001b[39;00m:\n\u001b[0;32m-> 1559\u001b[0m     prediction_response \u001b[39m=\u001b[39m \u001b[39mself\u001b[39;49m\u001b[39m.\u001b[39;49m_prediction_client\u001b[39m.\u001b[39;49mpredict(\n\u001b[1;32m   1560\u001b[0m         endpoint\u001b[39m=\u001b[39;49m\u001b[39mself\u001b[39;49m\u001b[39m.\u001b[39;49m_gca_resource\u001b[39m.\u001b[39;49mname,\n\u001b[1;32m   1561\u001b[0m         instances\u001b[39m=\u001b[39;49minstances,\n\u001b[1;32m   1562\u001b[0m         parameters\u001b[39m=\u001b[39;49mparameters,\n\u001b[1;32m   1563\u001b[0m         timeout\u001b[39m=\u001b[39;49mtimeout,\n\u001b[1;32m   1564\u001b[0m     )\n\u001b[1;32m   1566\u001b[0m     \u001b[39mreturn\u001b[39;00m Prediction(\n\u001b[1;32m   1567\u001b[0m         predictions\u001b[39m=\u001b[39m[\n\u001b[1;32m   1568\u001b[0m             json_format\u001b[39m.\u001b[39mMessageToDict(item)\n\u001b[0;32m   (...)\u001b[0m\n\u001b[1;32m   1573\u001b[0m         model_resource_name\u001b[39m=\u001b[39mprediction_response\u001b[39m.\u001b[39mmodel,\n\u001b[1;32m   1574\u001b[0m     )\n",
            "File \u001b[0;32m~/Projects/nuttee-cloudrun-bigquery-with-langchain/venv/lib/python3.10/site-packages/google/cloud/aiplatform_v1/services/prediction_service/client.py:602\u001b[0m, in \u001b[0;36mPredictionServiceClient.predict\u001b[0;34m(self, request, endpoint, instances, parameters, retry, timeout, metadata)\u001b[0m\n\u001b[1;32m    597\u001b[0m metadata \u001b[39m=\u001b[39m \u001b[39mtuple\u001b[39m(metadata) \u001b[39m+\u001b[39m (\n\u001b[1;32m    598\u001b[0m     gapic_v1\u001b[39m.\u001b[39mrouting_header\u001b[39m.\u001b[39mto_grpc_metadata(((\u001b[39m\"\u001b[39m\u001b[39mendpoint\u001b[39m\u001b[39m\"\u001b[39m, request\u001b[39m.\u001b[39mendpoint),)),\n\u001b[1;32m    599\u001b[0m )\n\u001b[1;32m    601\u001b[0m \u001b[39m# Send the request.\u001b[39;00m\n\u001b[0;32m--> 602\u001b[0m response \u001b[39m=\u001b[39m rpc(\n\u001b[1;32m    603\u001b[0m     request,\n\u001b[1;32m    604\u001b[0m     retry\u001b[39m=\u001b[39;49mretry,\n\u001b[1;32m    605\u001b[0m     timeout\u001b[39m=\u001b[39;49mtimeout,\n\u001b[1;32m    606\u001b[0m     metadata\u001b[39m=\u001b[39;49mmetadata,\n\u001b[1;32m    607\u001b[0m )\n\u001b[1;32m    609\u001b[0m \u001b[39m# Done; return the response.\u001b[39;00m\n\u001b[1;32m    610\u001b[0m \u001b[39mreturn\u001b[39;00m response\n",
            "File \u001b[0;32m~/Projects/nuttee-cloudrun-bigquery-with-langchain/venv/lib/python3.10/site-packages/google/api_core/gapic_v1/method.py:113\u001b[0m, in \u001b[0;36m_GapicCallable.__call__\u001b[0;34m(self, timeout, retry, *args, **kwargs)\u001b[0m\n\u001b[1;32m    110\u001b[0m     metadata\u001b[39m.\u001b[39mextend(\u001b[39mself\u001b[39m\u001b[39m.\u001b[39m_metadata)\n\u001b[1;32m    111\u001b[0m     kwargs[\u001b[39m\"\u001b[39m\u001b[39mmetadata\u001b[39m\u001b[39m\"\u001b[39m] \u001b[39m=\u001b[39m metadata\n\u001b[0;32m--> 113\u001b[0m \u001b[39mreturn\u001b[39;00m wrapped_func(\u001b[39m*\u001b[39;49margs, \u001b[39m*\u001b[39;49m\u001b[39m*\u001b[39;49mkwargs)\n",
            "File \u001b[0;32m~/Projects/nuttee-cloudrun-bigquery-with-langchain/venv/lib/python3.10/site-packages/google/api_core/grpc_helpers.py:72\u001b[0m, in \u001b[0;36m_wrap_unary_errors.<locals>.error_remapped_callable\u001b[0;34m(*args, **kwargs)\u001b[0m\n\u001b[1;32m     69\u001b[0m \u001b[39m@functools\u001b[39m\u001b[39m.\u001b[39mwraps(callable_)\n\u001b[1;32m     70\u001b[0m \u001b[39mdef\u001b[39;00m \u001b[39merror_remapped_callable\u001b[39m(\u001b[39m*\u001b[39margs, \u001b[39m*\u001b[39m\u001b[39m*\u001b[39mkwargs):\n\u001b[1;32m     71\u001b[0m     \u001b[39mtry\u001b[39;00m:\n\u001b[0;32m---> 72\u001b[0m         \u001b[39mreturn\u001b[39;00m callable_(\u001b[39m*\u001b[39;49margs, \u001b[39m*\u001b[39;49m\u001b[39m*\u001b[39;49mkwargs)\n\u001b[1;32m     73\u001b[0m     \u001b[39mexcept\u001b[39;00m grpc\u001b[39m.\u001b[39mRpcError \u001b[39mas\u001b[39;00m exc:\n\u001b[1;32m     74\u001b[0m         \u001b[39mraise\u001b[39;00m exceptions\u001b[39m.\u001b[39mfrom_grpc_error(exc) \u001b[39mfrom\u001b[39;00m \u001b[39mexc\u001b[39;00m\n",
            "File \u001b[0;32m~/Projects/nuttee-cloudrun-bigquery-with-langchain/venv/lib/python3.10/site-packages/grpc/_channel.py:1028\u001b[0m, in \u001b[0;36m_UnaryUnaryMultiCallable.__call__\u001b[0;34m(self, request, timeout, metadata, credentials, wait_for_ready, compression)\u001b[0m\n\u001b[1;32m   1021\u001b[0m \u001b[39mdef\u001b[39;00m \u001b[39m__call__\u001b[39m(\u001b[39mself\u001b[39m,\n\u001b[1;32m   1022\u001b[0m              request: Any,\n\u001b[1;32m   1023\u001b[0m              timeout: Optional[\u001b[39mfloat\u001b[39m] \u001b[39m=\u001b[39m \u001b[39mNone\u001b[39;00m,\n\u001b[0;32m   (...)\u001b[0m\n\u001b[1;32m   1026\u001b[0m              wait_for_ready: Optional[\u001b[39mbool\u001b[39m] \u001b[39m=\u001b[39m \u001b[39mNone\u001b[39;00m,\n\u001b[1;32m   1027\u001b[0m              compression: Optional[grpc\u001b[39m.\u001b[39mCompression] \u001b[39m=\u001b[39m \u001b[39mNone\u001b[39;00m) \u001b[39m-\u001b[39m\u001b[39m>\u001b[39m Any:\n\u001b[0;32m-> 1028\u001b[0m     state, call, \u001b[39m=\u001b[39m \u001b[39mself\u001b[39;49m\u001b[39m.\u001b[39;49m_blocking(request, timeout, metadata, credentials,\n\u001b[1;32m   1029\u001b[0m                                   wait_for_ready, compression)\n\u001b[1;32m   1030\u001b[0m     \u001b[39mreturn\u001b[39;00m _end_unary_response_blocking(state, call, \u001b[39mFalse\u001b[39;00m, \u001b[39mNone\u001b[39;00m)\n",
            "File \u001b[0;32m~/Projects/nuttee-cloudrun-bigquery-with-langchain/venv/lib/python3.10/site-packages/grpc/_channel.py:1017\u001b[0m, in \u001b[0;36m_UnaryUnaryMultiCallable._blocking\u001b[0;34m(self, request, timeout, metadata, credentials, wait_for_ready, compression)\u001b[0m\n\u001b[1;32m   1009\u001b[0m \u001b[39melse\u001b[39;00m:\n\u001b[1;32m   1010\u001b[0m     call \u001b[39m=\u001b[39m \u001b[39mself\u001b[39m\u001b[39m.\u001b[39m_channel\u001b[39m.\u001b[39msegregated_call(\n\u001b[1;32m   1011\u001b[0m         cygrpc\u001b[39m.\u001b[39mPropagationConstants\u001b[39m.\u001b[39mGRPC_PROPAGATE_DEFAULTS,\n\u001b[1;32m   1012\u001b[0m         \u001b[39mself\u001b[39m\u001b[39m.\u001b[39m_method, \u001b[39mNone\u001b[39;00m, _determine_deadline(deadline), metadata,\n\u001b[0;32m   (...)\u001b[0m\n\u001b[1;32m   1015\u001b[0m             \u001b[39mNone\u001b[39;00m,\n\u001b[1;32m   1016\u001b[0m         ),), \u001b[39mself\u001b[39m\u001b[39m.\u001b[39m_context)\n\u001b[0;32m-> 1017\u001b[0m     event \u001b[39m=\u001b[39m call\u001b[39m.\u001b[39;49mnext_event()\n\u001b[1;32m   1018\u001b[0m     _handle_event(event, state, \u001b[39mself\u001b[39m\u001b[39m.\u001b[39m_response_deserializer)\n\u001b[1;32m   1019\u001b[0m     \u001b[39mreturn\u001b[39;00m state, call\n",
            "File \u001b[0;32msrc/python/grpcio/grpc/_cython/_cygrpc/channel.pyx.pxi:338\u001b[0m, in \u001b[0;36mgrpc._cython.cygrpc.SegregatedCall.next_event\u001b[0;34m()\u001b[0m\n",
            "File \u001b[0;32msrc/python/grpcio/grpc/_cython/_cygrpc/channel.pyx.pxi:169\u001b[0m, in \u001b[0;36mgrpc._cython.cygrpc._next_call_event\u001b[0;34m()\u001b[0m\n",
            "File \u001b[0;32msrc/python/grpcio/grpc/_cython/_cygrpc/channel.pyx.pxi:163\u001b[0m, in \u001b[0;36mgrpc._cython.cygrpc._next_call_event\u001b[0;34m()\u001b[0m\n",
            "File \u001b[0;32msrc/python/grpcio/grpc/_cython/_cygrpc/completion_queue.pyx.pxi:78\u001b[0m, in \u001b[0;36mgrpc._cython.cygrpc._latent_event\u001b[0;34m()\u001b[0m\n",
            "File \u001b[0;32msrc/python/grpcio/grpc/_cython/_cygrpc/completion_queue.pyx.pxi:61\u001b[0m, in \u001b[0;36mgrpc._cython.cygrpc._internal_latent_event\u001b[0;34m()\u001b[0m\n",
            "File \u001b[0;32msrc/python/grpcio/grpc/_cython/_cygrpc/completion_queue.pyx.pxi:42\u001b[0m, in \u001b[0;36mgrpc._cython.cygrpc._next\u001b[0;34m()\u001b[0m\n",
            "\u001b[0;31mKeyboardInterrupt\u001b[0m: "
          ]
        }
      ],
      "source": [
        "question=\"\"\"\n",
        "Instruction: Give an answer in Thai language\n",
        "ผลิตภัณฑ์: xpress_cash\n",
        "จุดประสงค์: คุณสมบัติ/เงื่อนไขการสมัคร \n",
        "\n",
        "ไม่ได้ทำงานประจำ สมัครสินเชื่อเงินด่วนได้ไหม\n",
        "\"\"\"\n",
        "\n",
        "agent_executor.run(question)"
      ]
    },
    {
      "cell_type": "code",
      "execution_count": null,
      "metadata": {
        "id": "HuajRoiw-tNX"
      },
      "outputs": [],
      "source": [
        "# Streamlit app\n",
        "st.title('LangChain Search')\n",
        "\n",
        "# Check if the 'Search' button is clicked\n",
        "if st.button(\"Search\"):\n",
        "    # Validate inputs\n",
        "    if not openai_api_key.strip() or not serpapi_api_key.strip() or not search_query.strip():\n",
        "        st.write(f\"Please provide the missing fields.\")\n",
        "    else:\n",
        "        try:\n",
        "            # Initialize the OpenAI module, load the SerpApi tool, and run the search query using an agent\n",
        "            llm=OpenAI(temperature=0, openai_api_key=openai_api_key, verbose=True)\n",
        "            tools = load_tools([\"serpapi\"], llm, serpapi_api_key=serpapi_api_key)\n",
        "            agent = initialize_agent(tools, llm, agent=\"zero-shot-react-description\", verbose=True)\n",
        "\n",
        "            result = agent.run(search_query)\n",
        "            \n",
        "            st.write(result)\n",
        "        except Exception as e:\n",
        "            st.write(f\"An error occurred: {e}\")"
      ]
    },
    {
      "attachments": {},
      "cell_type": "markdown",
      "metadata": {
        "id": "xWvZXI1y-xNo"
      },
      "source": [
        "Install localtunnel to serve the Streamlit app"
      ]
    },
    {
      "cell_type": "code",
      "execution_count": null,
      "metadata": {
        "id": "lBKjlQgJ-zcD"
      },
      "outputs": [],
      "source": [
        "!npm install localtunnel"
      ]
    },
    {
      "attachments": {},
      "cell_type": "markdown",
      "metadata": {
        "id": "xR_VC1gm-1LR"
      },
      "source": [
        "Run the Streamlit app in the background"
      ]
    },
    {
      "cell_type": "code",
      "execution_count": 4,
      "metadata": {
        "id": "qVJ_KsOE-2-o"
      },
      "outputs": [],
      "source": [
        "!streamlit run app.py &>/content/logs.txt &"
      ]
    },
    {
      "attachments": {},
      "cell_type": "markdown",
      "metadata": {
        "id": "Cqvg_8Xm-5BG"
      },
      "source": [
        "Expose the Streamlit app on port 8501"
      ]
    },
    {
      "cell_type": "code",
      "execution_count": null,
      "metadata": {
        "id": "QEUtr2Sy-66v"
      },
      "outputs": [],
      "source": [
        "!npx localtunnel --port 8501"
      ]
    }
  ],
  "metadata": {
    "colab": {
      "provenance": []
    },
    "kernelspec": {
      "display_name": "Python 3",
      "name": "python3"
    },
    "language_info": {
      "codemirror_mode": {
        "name": "ipython",
        "version": 3
      },
      "file_extension": ".py",
      "mimetype": "text/x-python",
      "name": "python",
      "nbconvert_exporter": "python",
      "pygments_lexer": "ipython3",
      "version": "3.10.12"
    }
  },
  "nbformat": 4,
  "nbformat_minor": 0
}
